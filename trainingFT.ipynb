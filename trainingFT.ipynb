{
 "cells": [
  {
   "cell_type": "markdown",
   "id": "51e25010",
   "metadata": {},
   "source": [
    "Import the necessary libraries and create an outputs_FT folder to store train results"
   ]
  },
  {
   "cell_type": "code",
   "execution_count": 2,
   "id": "5d5584e9",
   "metadata": {},
   "outputs": [
    {
     "name": "stderr",
     "output_type": "stream",
     "text": [
      "/home/yca/.local/lib/python3.8/site-packages/scipy/__init__.py:146: UserWarning: A NumPy version >=1.16.5 and <1.23.0 is required for this version of SciPy (detected version 1.24.2\n",
      "  warnings.warn(f\"A NumPy version >={np_minversion} and <{np_maxversion}\"\n"
     ]
    },
    {
     "name": "stdout",
     "output_type": "stream",
     "text": [
      "Imports OK\n"
     ]
    }
   ],
   "source": [
    "import numpy as np\n",
    "import matplotlib.pyplot as plt\n",
    "import os\n",
    "import torch\n",
    "from tqdm import tqdm\n",
    "from torch.utils.data import DataLoader\n",
    "\n",
    "from data import FlowersDataset, split_dataset\n",
    "from networkFT import Net\n",
    "import torch.optim as optim\n",
    "import torch.nn as nn\n",
    "from torch.optim.lr_scheduler import ExponentialLR\n",
    "import random\n",
    "from torchvision.utils import make_grid \n",
    "from sklearn.metrics import confusion_matrix\n",
    "\n",
    "import pandas as pd\n",
    "import seaborn as sn\n",
    "import cv2\n",
    "from PIL import Image\n",
    "\n",
    "\n",
    "from torchvision import  transforms\n",
    "import torchvision.transforms.functional as F\n",
    "\n",
    "if not os.path.exists('./outputs_FT'):\n",
    "    os.mkdir('./outputs_FT')\n",
    "    \n",
    "\n",
    "print('Imports OK')"
   ]
  },
  {
   "cell_type": "code",
   "execution_count": 3,
   "id": "a3349270",
   "metadata": {},
   "outputs": [
    {
     "name": "stdout",
     "output_type": "stream",
     "text": [
      "Parameters OK\n",
      "using : cpu\n"
     ]
    }
   ],
   "source": [
    "\"\"\" Set Global Parameters \"\"\"\n",
    "\n",
    "USE_CUDA = False\n",
    "\n",
    "DATASET_PATH = './data_flowers/'\n",
    "\n",
    "BATCH_SIZE = 16 # Number of images that are used for calculating gradients at each step\n",
    "\n",
    "NUM_EPOCHS = 75 # Number of times we will go through all the training images. \n",
    "\n",
    "LEARNING_RATE = 0.01 # Initial learning rate\n",
    "MOMENTUM = 0.9 # Momentum for the gradient descent (SGD with momentum will be used)\n",
    "WEIGHT_DECAY = 0.001 # L2 Regularization factor to reduce overfitting\n",
    "\n",
    "nb_classes = 3\n",
    "\n",
    "if USE_CUDA:\n",
    "    device = torch.device('cuda:0' if torch.cuda.is_available() else 'cpu') #check again if cuda is really available\n",
    "else:\n",
    "    device = torch.device(\"cpu\")\n",
    "    \n",
    "#reproducibility\n",
    "np.random.seed(0)\n",
    "random.seed(0)  \n",
    "torch.manual_seed(0)    \n",
    "\n",
    "print('Parameters OK')\n",
    "print(\"using :\", device)\n"
   ]
  },
  {
   "cell_type": "code",
   "execution_count": 4,
   "id": "467bc827",
   "metadata": {},
   "outputs": [
    {
     "name": "stdout",
     "output_type": "stream",
     "text": [
      "Adjusting learning rate of group 0 to 1.0000e-02.\n",
      "Net(\n",
      "  (convolutions): Sequential(\n",
      "    (0): Conv2d(3, 4, kernel_size=(3, 3), stride=(1, 1), padding=(1, 1))\n",
      "    (1): BatchNorm2d(4, eps=1e-05, momentum=0.1, affine=True, track_running_stats=True)\n",
      "    (2): ReLU(inplace=True)\n",
      "    (3): MaxPool2d(kernel_size=2, stride=2, padding=0, dilation=1, ceil_mode=False)\n",
      "    (4): Conv2d(4, 8, kernel_size=(5, 5), stride=(1, 1), padding=(1, 1))\n",
      "    (5): BatchNorm2d(8, eps=1e-05, momentum=0.1, affine=True, track_running_stats=True)\n",
      "    (6): ReLU(inplace=True)\n",
      "    (7): MaxPool2d(kernel_size=2, stride=2, padding=0, dilation=1, ceil_mode=False)\n",
      "    (8): Conv2d(8, 16, kernel_size=(5, 5), stride=(1, 1), padding=(1, 1))\n",
      "    (9): BatchNorm2d(16, eps=1e-05, momentum=0.1, affine=True, track_running_stats=True)\n",
      "    (10): ReLU(inplace=True)\n",
      "    (11): MaxPool2d(kernel_size=2, stride=2, padding=0, dilation=1, ceil_mode=False)\n",
      "    (12): Conv2d(16, 32, kernel_size=(3, 3), stride=(1, 1), padding=(1, 1))\n",
      "    (13): BatchNorm2d(32, eps=1e-05, momentum=0.1, affine=True, track_running_stats=True)\n",
      "    (14): ReLU(inplace=True)\n",
      "    (15): MaxPool2d(kernel_size=2, stride=2, padding=0, dilation=1, ceil_mode=False)\n",
      "  )\n",
      "  (fully_connected): Sequential(\n",
      "    (0): Linear(in_features=6272, out_features=3136, bias=True)\n",
      "    (1): ReLU(inplace=True)\n",
      "    (2): Dropout(p=0.3, inplace=False)\n",
      "    (3): Linear(in_features=3136, out_features=1000, bias=True)\n",
      "    (4): ReLU(inplace=True)\n",
      "    (5): Dropout(p=0.5, inplace=False)\n",
      "    (6): Linear(in_features=1000, out_features=128, bias=True)\n",
      "    (7): ReLU(inplace=True)\n",
      "    (8): Dropout(p=0.5, inplace=False)\n",
      "    (9): Linear(in_features=128, out_features=3, bias=True)\n",
      "    (10): Softmax(dim=1)\n",
      "  )\n",
      ")\n",
      "Network OK\n"
     ]
    }
   ],
   "source": [
    "\"\"\" Create Neural Network \"\"\"\n",
    "\n",
    "model = Net(nb_classes) \n",
    "    \n",
    "# Define criterion, optimizer, and scheduler\n",
    "criterion = nn.CrossEntropyLoss()\n",
    "optimizer=optim.SGD(model.parameters(), lr=LEARNING_RATE, weight_decay=WEIGHT_DECAY, momentum=MOMENTUM)\n",
    "scheduler = ExponentialLR(optimizer, gamma=0.98, verbose=True)\n",
    "\n",
    "model.train()\n",
    "model.to(device) \n",
    "\n",
    "print(model)\n",
    "\n",
    "print('Network OK')"
   ]
  },
  {
   "cell_type": "markdown",
   "id": "5d31bc63",
   "metadata": {},
   "source": [
    "Data augmentation added here!"
   ]
  },
  {
   "cell_type": "code",
   "execution_count": 6,
   "id": "02b72e3e",
   "metadata": {},
   "outputs": [
    {
     "name": "stdout",
     "output_type": "stream",
     "text": [
      "Dataset includes 180  images\n",
      " 108  of them assigned into train 36  of them assigned into in test 36  of them assigned into validation sub dataset\n",
      "{'dandelion': 0, 'rose': 1, 'daisy': 2}\n",
      "Dataloaders OK\n"
     ]
    }
   ],
   "source": [
    "\"\"\" Prepare Data \"\"\"\n",
    "\n",
    "generator=torch.Generator().manual_seed(42)\n",
    "\n",
    "train_list, val_list, test_list, class_idx = split_dataset(data_path = \"./data_flowers/\")\n",
    "\n",
    "print(class_idx) # check which output node refers to which class\n",
    "\n",
    "train_transforms=transforms.Compose([\n",
    "    transforms.ToPILImage(),\n",
    "    transforms.Resize((240,240)),\n",
    "    transforms.ColorJitter(brightness=0.5, contrast=0.5, saturation=0, hue=0),\n",
    "    transforms.RandomRotation(30),\n",
    "    transforms.ToTensor()\n",
    "])    \n",
    "\n",
    "val_transforms=transforms.Compose([\n",
    "    transforms.ToPILImage(),\n",
    "    transforms.Resize((240,240)),\n",
    "    transforms.ToTensor()\n",
    "])  \n",
    "\n",
    "train_dataset = FlowersDataset(train_list, class_idx, train_transforms)\n",
    "val_dataset = FlowersDataset(val_list, class_idx, val_transforms)\n",
    "test_dataset = FlowersDataset(test_list, class_idx, val_transforms)\n",
    "\n",
    "train_loader = DataLoader(train_dataset, batch_size=4, shuffle=True, generator=generator)\n",
    "val_loader = DataLoader(val_dataset, batch_size=4, shuffle=False) \n",
    "test_loader = DataLoader(test_dataset, batch_size=4, shuffle=False)\n",
    "\n",
    "print('Dataloaders OK')"
   ]
  },
  {
   "cell_type": "markdown",
   "id": "fe8e537b",
   "metadata": {},
   "source": [
    "### Check your weights & grads\n",
    "\n",
    "Using below functions, you can check the weights of the convolutional and fully connected layers or the gradients to see if everything is ok or you have a vanishing gradient or exploding gradient problem maybe?\n",
    "check_gradient function is used in run_epoch to show as an example"
   ]
  },
  {
   "cell_type": "code",
   "execution_count": 5,
   "id": "8be44c13",
   "metadata": {},
   "outputs": [],
   "source": [
    "def check_weights(model):\n",
    "    model_weights = {}\n",
    " \n",
    "    for name, layer in model.named_modules():\n",
    "        if type(layer) == nn.Conv2d or type(layer) == nn.Linear: \n",
    "            model_weights[name] = layer.weight\n",
    "        \n",
    "    print(model_weights)    \n",
    "    \n",
    "def check_gradients(model):\n",
    "    model_gradients = {}\n",
    " \n",
    "    for name, layer in model.named_modules():\n",
    "        if type(layer) == nn.Conv2d or type(layer) == nn.Linear: \n",
    "            model_gradients[name] = layer.weight.grad\n",
    "     \n",
    "    print(model_gradients) "
   ]
  },
  {
   "cell_type": "code",
   "execution_count": 6,
   "id": "7017fb48",
   "metadata": {},
   "outputs": [],
   "source": [
    "def run_epoch(net, optimizer, dataloader, criterion, train=True):\n",
    "    epoch_total_loss = 0\n",
    "    epoch_total_samples = 0\n",
    "    epoch_total_correct = 0\n",
    "\n",
    "\n",
    "    for batch in tqdm(dataloader):\n",
    "        imgs, labels = batch[0].to(device), batch[1].to(device)\n",
    "   \n",
    "        outputs = model(imgs.float())\n",
    "        loss = criterion(outputs, labels)\n",
    "           \n",
    "        \"\"\" \n",
    "            Note that this function will be used to calculate validation loss & accuracy also.\n",
    "            But the gradients should be updated only with train dataset. So we use if train: statement\n",
    "        \"\"\"\n",
    "        if train: \n",
    "            optimizer.zero_grad()\n",
    "            loss.backward()\n",
    "            \"\"\" Check gradients \"\"\"\n",
    "           # check_gradients(model)\n",
    "            optimizer.step()\n",
    "        \n",
    "        _, predicted = torch.max(outputs.data, 1)\n",
    "        \n",
    "        with torch.no_grad():\n",
    "            epoch_total_samples += labels.size(0)\n",
    "            epoch_total_loss += loss.item()\n",
    "            epoch_total_correct += (predicted == labels).sum().item()\n",
    "\n",
    "    return epoch_total_loss / epoch_total_samples, epoch_total_correct / epoch_total_samples"
   ]
  },
  {
   "cell_type": "markdown",
   "id": "a8433a66",
   "metadata": {},
   "source": [
    "Time to train!"
   ]
  },
  {
   "cell_type": "code",
   "execution_count": 7,
   "id": "4ec0cc4c",
   "metadata": {},
   "outputs": [
    {
     "name": "stdout",
     "output_type": "stream",
     "text": [
      "\n",
      "\n",
      "Running epoch 1 of 75...\n",
      "\n"
     ]
    },
    {
     "name": "stderr",
     "output_type": "stream",
     "text": [
      "100%|██████████| 27/27 [00:03<00:00,  8.55it/s]\n",
      "100%|██████████| 9/9 [00:00<00:00, 36.08it/s]\n"
     ]
    },
    {
     "name": "stdout",
     "output_type": "stream",
     "text": [
      "\n",
      "Epoch 1 validation results: Loss=0.28439079225063324 | Accuracy=0.3333333333333333\n",
      "\n",
      "Adjusting learning rate of group 0 to 9.8000e-03.\n",
      "\n",
      "\n",
      "Running epoch 2 of 75...\n",
      "\n"
     ]
    },
    {
     "name": "stderr",
     "output_type": "stream",
     "text": [
      "100%|██████████| 27/27 [00:03<00:00,  8.61it/s]\n",
      "100%|██████████| 9/9 [00:00<00:00, 33.64it/s]\n"
     ]
    },
    {
     "name": "stdout",
     "output_type": "stream",
     "text": [
      "\n",
      "Epoch 2 validation results: Loss=0.27454161643981934 | Accuracy=0.3888888888888889\n",
      "\n",
      "Adjusting learning rate of group 0 to 9.6040e-03.\n",
      "\n",
      "\n",
      "Running epoch 3 of 75...\n",
      "\n"
     ]
    },
    {
     "name": "stderr",
     "output_type": "stream",
     "text": [
      "100%|██████████| 27/27 [00:03<00:00,  8.98it/s]\n",
      "100%|██████████| 9/9 [00:00<00:00, 39.10it/s]\n"
     ]
    },
    {
     "name": "stdout",
     "output_type": "stream",
     "text": [
      "\n",
      "Epoch 3 validation results: Loss=0.26983998550309074 | Accuracy=0.4444444444444444\n",
      "\n",
      "Adjusting learning rate of group 0 to 9.4119e-03.\n",
      "\n",
      "\n",
      "Running epoch 4 of 75...\n",
      "\n"
     ]
    },
    {
     "name": "stderr",
     "output_type": "stream",
     "text": [
      "100%|██████████| 27/27 [00:03<00:00,  8.74it/s]\n",
      "100%|██████████| 9/9 [00:00<00:00, 36.34it/s]\n"
     ]
    },
    {
     "name": "stdout",
     "output_type": "stream",
     "text": [
      "\n",
      "Epoch 4 validation results: Loss=0.26258907384342617 | Accuracy=0.5\n",
      "\n",
      "Adjusting learning rate of group 0 to 9.2237e-03.\n",
      "\n",
      "\n",
      "Running epoch 5 of 75...\n",
      "\n"
     ]
    },
    {
     "name": "stderr",
     "output_type": "stream",
     "text": [
      "100%|██████████| 27/27 [00:03<00:00,  8.69it/s]\n",
      "100%|██████████| 9/9 [00:00<00:00, 35.60it/s]\n"
     ]
    },
    {
     "name": "stdout",
     "output_type": "stream",
     "text": [
      "\n",
      "Epoch 5 validation results: Loss=0.26063879827658337 | Accuracy=0.5833333333333334\n",
      "\n",
      "Adjusting learning rate of group 0 to 9.0392e-03.\n",
      "\n",
      "\n",
      "Running epoch 6 of 75...\n",
      "\n"
     ]
    },
    {
     "name": "stderr",
     "output_type": "stream",
     "text": [
      "100%|██████████| 27/27 [00:03<00:00,  8.64it/s]\n",
      "100%|██████████| 9/9 [00:00<00:00, 37.71it/s]\n"
     ]
    },
    {
     "name": "stdout",
     "output_type": "stream",
     "text": [
      "\n",
      "Epoch 6 validation results: Loss=0.28827611605326336 | Accuracy=0.3055555555555556\n",
      "\n",
      "Adjusting learning rate of group 0 to 8.8584e-03.\n",
      "\n",
      "\n",
      "Running epoch 7 of 75...\n",
      "\n"
     ]
    },
    {
     "name": "stderr",
     "output_type": "stream",
     "text": [
      "100%|██████████| 27/27 [00:03<00:00,  8.96it/s]\n",
      "100%|██████████| 9/9 [00:00<00:00, 37.17it/s]\n"
     ]
    },
    {
     "name": "stdout",
     "output_type": "stream",
     "text": [
      "\n",
      "Epoch 7 validation results: Loss=0.2636585632960002 | Accuracy=0.4444444444444444\n",
      "\n",
      "Adjusting learning rate of group 0 to 8.6813e-03.\n",
      "\n",
      "\n",
      "Running epoch 8 of 75...\n",
      "\n"
     ]
    },
    {
     "name": "stderr",
     "output_type": "stream",
     "text": [
      "100%|██████████| 27/27 [00:02<00:00,  9.59it/s]\n",
      "100%|██████████| 9/9 [00:00<00:00, 43.12it/s]\n"
     ]
    },
    {
     "name": "stdout",
     "output_type": "stream",
     "text": [
      "\n",
      "Epoch 8 validation results: Loss=0.25823741323418087 | Accuracy=0.5\n",
      "\n",
      "Adjusting learning rate of group 0 to 8.5076e-03.\n",
      "\n",
      "\n",
      "Running epoch 9 of 75...\n",
      "\n"
     ]
    },
    {
     "name": "stderr",
     "output_type": "stream",
     "text": [
      "100%|██████████| 27/27 [00:02<00:00,  9.65it/s]\n",
      "100%|██████████| 9/9 [00:00<00:00, 44.75it/s]\n"
     ]
    },
    {
     "name": "stdout",
     "output_type": "stream",
     "text": [
      "\n",
      "Epoch 9 validation results: Loss=0.2531103607681062 | Accuracy=0.4444444444444444\n",
      "\n",
      "Adjusting learning rate of group 0 to 8.3375e-03.\n",
      "\n",
      "\n",
      "Running epoch 10 of 75...\n",
      "\n"
     ]
    },
    {
     "name": "stderr",
     "output_type": "stream",
     "text": [
      "100%|██████████| 27/27 [00:02<00:00,  9.06it/s]\n",
      "100%|██████████| 9/9 [00:00<00:00, 38.95it/s]\n"
     ]
    },
    {
     "name": "stdout",
     "output_type": "stream",
     "text": [
      "\n",
      "Epoch 10 validation results: Loss=0.24982728395197126 | Accuracy=0.5555555555555556\n",
      "\n",
      "Adjusting learning rate of group 0 to 8.1707e-03.\n",
      "\n",
      "\n",
      "Running epoch 11 of 75...\n",
      "\n"
     ]
    },
    {
     "name": "stderr",
     "output_type": "stream",
     "text": [
      "100%|██████████| 27/27 [00:03<00:00,  8.10it/s]\n",
      "100%|██████████| 9/9 [00:00<00:00, 35.93it/s]\n"
     ]
    },
    {
     "name": "stdout",
     "output_type": "stream",
     "text": [
      "\n",
      "Epoch 11 validation results: Loss=0.25412024392022026 | Accuracy=0.5277777777777778\n",
      "\n",
      "Adjusting learning rate of group 0 to 8.0073e-03.\n",
      "\n",
      "\n",
      "Running epoch 12 of 75...\n",
      "\n"
     ]
    },
    {
     "name": "stderr",
     "output_type": "stream",
     "text": [
      "100%|██████████| 27/27 [00:03<00:00,  8.85it/s]\n",
      "100%|██████████| 9/9 [00:00<00:00, 38.99it/s]\n"
     ]
    },
    {
     "name": "stdout",
     "output_type": "stream",
     "text": [
      "\n",
      "Epoch 12 validation results: Loss=0.2476647330654992 | Accuracy=0.5277777777777778\n",
      "\n",
      "Adjusting learning rate of group 0 to 7.8472e-03.\n",
      "\n",
      "\n",
      "Running epoch 13 of 75...\n",
      "\n"
     ]
    },
    {
     "name": "stderr",
     "output_type": "stream",
     "text": [
      "100%|██████████| 27/27 [00:02<00:00,  9.27it/s]\n",
      "100%|██████████| 9/9 [00:00<00:00, 41.72it/s]\n"
     ]
    },
    {
     "name": "stdout",
     "output_type": "stream",
     "text": [
      "\n",
      "Epoch 13 validation results: Loss=0.2424886938598421 | Accuracy=0.5833333333333334\n",
      "\n",
      "Adjusting learning rate of group 0 to 7.6902e-03.\n",
      "\n",
      "\n",
      "Running epoch 14 of 75...\n",
      "\n"
     ]
    },
    {
     "name": "stderr",
     "output_type": "stream",
     "text": [
      "100%|██████████| 27/27 [00:02<00:00,  9.04it/s]\n",
      "100%|██████████| 9/9 [00:00<00:00, 38.53it/s]\n"
     ]
    },
    {
     "name": "stdout",
     "output_type": "stream",
     "text": [
      "\n",
      "Epoch 14 validation results: Loss=0.2591360029247072 | Accuracy=0.3888888888888889\n",
      "\n",
      "Adjusting learning rate of group 0 to 7.5364e-03.\n",
      "\n",
      "\n",
      "Running epoch 15 of 75...\n",
      "\n"
     ]
    },
    {
     "name": "stderr",
     "output_type": "stream",
     "text": [
      "100%|██████████| 27/27 [00:03<00:00,  8.24it/s]\n",
      "100%|██████████| 9/9 [00:00<00:00, 34.39it/s]\n"
     ]
    },
    {
     "name": "stdout",
     "output_type": "stream",
     "text": [
      "\n",
      "Epoch 15 validation results: Loss=0.25608353151215446 | Accuracy=0.5277777777777778\n",
      "\n",
      "Adjusting learning rate of group 0 to 7.3857e-03.\n",
      "\n",
      "\n",
      "Running epoch 16 of 75...\n",
      "\n"
     ]
    },
    {
     "name": "stderr",
     "output_type": "stream",
     "text": [
      "100%|██████████| 27/27 [00:03<00:00,  8.35it/s]\n",
      "100%|██████████| 9/9 [00:00<00:00, 37.92it/s]\n"
     ]
    },
    {
     "name": "stdout",
     "output_type": "stream",
     "text": [
      "\n",
      "Epoch 16 validation results: Loss=0.25919339226351845 | Accuracy=0.5\n",
      "\n",
      "Adjusting learning rate of group 0 to 7.2380e-03.\n",
      "\n",
      "\n",
      "Running epoch 17 of 75...\n",
      "\n"
     ]
    },
    {
     "name": "stderr",
     "output_type": "stream",
     "text": [
      "100%|██████████| 27/27 [00:03<00:00,  8.56it/s]\n",
      "100%|██████████| 9/9 [00:00<00:00, 42.13it/s]\n"
     ]
    },
    {
     "name": "stdout",
     "output_type": "stream",
     "text": [
      "\n",
      "Epoch 17 validation results: Loss=0.2559014558792114 | Accuracy=0.4444444444444444\n",
      "\n",
      "Adjusting learning rate of group 0 to 7.0932e-03.\n",
      "\n",
      "\n",
      "Running epoch 18 of 75...\n",
      "\n"
     ]
    },
    {
     "name": "stderr",
     "output_type": "stream",
     "text": [
      "100%|██████████| 27/27 [00:02<00:00,  9.27it/s]\n",
      "100%|██████████| 9/9 [00:00<00:00, 37.64it/s]\n"
     ]
    },
    {
     "name": "stdout",
     "output_type": "stream",
     "text": [
      "\n",
      "Epoch 18 validation results: Loss=0.2562362766928143 | Accuracy=0.4444444444444444\n",
      "\n",
      "Adjusting learning rate of group 0 to 6.9514e-03.\n",
      "\n",
      "\n",
      "Running epoch 19 of 75...\n",
      "\n"
     ]
    },
    {
     "name": "stderr",
     "output_type": "stream",
     "text": [
      "100%|██████████| 27/27 [00:03<00:00,  8.58it/s]\n",
      "100%|██████████| 9/9 [00:00<00:00, 37.11it/s]\n"
     ]
    },
    {
     "name": "stdout",
     "output_type": "stream",
     "text": [
      "\n",
      "Epoch 19 validation results: Loss=0.2471724053223928 | Accuracy=0.5277777777777778\n",
      "\n",
      "Adjusting learning rate of group 0 to 6.8123e-03.\n",
      "\n",
      "\n",
      "Running epoch 20 of 75...\n",
      "\n"
     ]
    },
    {
     "name": "stderr",
     "output_type": "stream",
     "text": [
      "100%|██████████| 27/27 [00:03<00:00,  8.54it/s]\n",
      "100%|██████████| 9/9 [00:00<00:00, 41.57it/s]\n"
     ]
    },
    {
     "name": "stdout",
     "output_type": "stream",
     "text": [
      "\n",
      "Epoch 20 validation results: Loss=0.25475212931632996 | Accuracy=0.5\n",
      "\n",
      "Adjusting learning rate of group 0 to 6.6761e-03.\n",
      "\n",
      "\n",
      "Running epoch 21 of 75...\n",
      "\n"
     ]
    },
    {
     "name": "stderr",
     "output_type": "stream",
     "text": [
      "100%|██████████| 27/27 [00:03<00:00,  8.89it/s]\n",
      "100%|██████████| 9/9 [00:00<00:00, 31.58it/s]\n"
     ]
    },
    {
     "name": "stdout",
     "output_type": "stream",
     "text": [
      "\n",
      "Epoch 21 validation results: Loss=0.2518811027208964 | Accuracy=0.5\n",
      "\n",
      "Adjusting learning rate of group 0 to 6.5426e-03.\n",
      "\n",
      "\n",
      "Running epoch 22 of 75...\n",
      "\n"
     ]
    },
    {
     "name": "stderr",
     "output_type": "stream",
     "text": [
      "100%|██████████| 27/27 [00:03<00:00,  7.90it/s]\n",
      "100%|██████████| 9/9 [00:00<00:00, 26.39it/s]\n"
     ]
    },
    {
     "name": "stdout",
     "output_type": "stream",
     "text": [
      "\n",
      "Epoch 22 validation results: Loss=0.25729107360045117 | Accuracy=0.4166666666666667\n",
      "\n",
      "Adjusting learning rate of group 0 to 6.4117e-03.\n",
      "\n",
      "\n",
      "Running epoch 23 of 75...\n",
      "\n"
     ]
    },
    {
     "name": "stderr",
     "output_type": "stream",
     "text": [
      "100%|██████████| 27/27 [00:03<00:00,  8.99it/s]\n",
      "100%|██████████| 9/9 [00:00<00:00, 31.11it/s]\n"
     ]
    },
    {
     "name": "stdout",
     "output_type": "stream",
     "text": [
      "\n",
      "Epoch 23 validation results: Loss=0.2580912626451916 | Accuracy=0.5277777777777778\n",
      "\n",
      "Adjusting learning rate of group 0 to 6.2835e-03.\n",
      "\n",
      "\n",
      "Running epoch 24 of 75...\n",
      "\n"
     ]
    },
    {
     "name": "stderr",
     "output_type": "stream",
     "text": [
      "100%|██████████| 27/27 [00:03<00:00,  7.52it/s]\n",
      "100%|██████████| 9/9 [00:00<00:00, 32.31it/s]\n"
     ]
    },
    {
     "name": "stdout",
     "output_type": "stream",
     "text": [
      "\n",
      "Epoch 24 validation results: Loss=0.2527869939804077 | Accuracy=0.4722222222222222\n",
      "\n",
      "Adjusting learning rate of group 0 to 6.1578e-03.\n",
      "\n",
      "\n",
      "Running epoch 25 of 75...\n",
      "\n"
     ]
    },
    {
     "name": "stderr",
     "output_type": "stream",
     "text": [
      "100%|██████████| 27/27 [00:03<00:00,  7.15it/s]\n",
      "100%|██████████| 9/9 [00:00<00:00, 28.32it/s]\n"
     ]
    },
    {
     "name": "stdout",
     "output_type": "stream",
     "text": [
      "\n",
      "Epoch 25 validation results: Loss=0.25423650940259296 | Accuracy=0.5\n",
      "\n",
      "Adjusting learning rate of group 0 to 6.0346e-03.\n",
      "\n",
      "\n",
      "Running epoch 26 of 75...\n",
      "\n"
     ]
    },
    {
     "name": "stderr",
     "output_type": "stream",
     "text": [
      "100%|██████████| 27/27 [00:03<00:00,  7.94it/s]\n",
      "100%|██████████| 9/9 [00:00<00:00, 40.49it/s]\n"
     ]
    },
    {
     "name": "stdout",
     "output_type": "stream",
     "text": [
      "\n",
      "Epoch 26 validation results: Loss=0.248384071720971 | Accuracy=0.6111111111111112\n",
      "\n",
      "Adjusting learning rate of group 0 to 5.9140e-03.\n",
      "\n",
      "\n",
      "Running epoch 27 of 75...\n",
      "\n"
     ]
    },
    {
     "name": "stderr",
     "output_type": "stream",
     "text": [
      "100%|██████████| 27/27 [00:03<00:00,  8.55it/s]\n",
      "100%|██████████| 9/9 [00:00<00:00, 39.06it/s]\n"
     ]
    },
    {
     "name": "stdout",
     "output_type": "stream",
     "text": [
      "\n",
      "Epoch 27 validation results: Loss=0.2566749569442537 | Accuracy=0.5\n",
      "\n",
      "Adjusting learning rate of group 0 to 5.7957e-03.\n",
      "\n",
      "\n",
      "Running epoch 28 of 75...\n",
      "\n"
     ]
    },
    {
     "name": "stderr",
     "output_type": "stream",
     "text": [
      "100%|██████████| 27/27 [00:03<00:00,  8.61it/s]\n",
      "100%|██████████| 9/9 [00:00<00:00, 33.44it/s]\n"
     ]
    },
    {
     "name": "stdout",
     "output_type": "stream",
     "text": [
      "\n",
      "Epoch 28 validation results: Loss=0.26834431952900356 | Accuracy=0.3611111111111111\n",
      "\n",
      "Adjusting learning rate of group 0 to 5.6798e-03.\n",
      "\n",
      "\n",
      "Running epoch 29 of 75...\n",
      "\n"
     ]
    },
    {
     "name": "stderr",
     "output_type": "stream",
     "text": [
      "100%|██████████| 27/27 [00:03<00:00,  8.75it/s]\n",
      "100%|██████████| 9/9 [00:00<00:00, 35.31it/s]\n"
     ]
    },
    {
     "name": "stdout",
     "output_type": "stream",
     "text": [
      "\n",
      "Epoch 29 validation results: Loss=0.2615392489565743 | Accuracy=0.4444444444444444\n",
      "\n",
      "Adjusting learning rate of group 0 to 5.5662e-03.\n",
      "\n",
      "\n",
      "Running epoch 30 of 75...\n",
      "\n"
     ]
    },
    {
     "name": "stderr",
     "output_type": "stream",
     "text": [
      "100%|██████████| 27/27 [00:03<00:00,  8.19it/s]\n",
      "100%|██████████| 9/9 [00:00<00:00, 37.76it/s]\n"
     ]
    },
    {
     "name": "stdout",
     "output_type": "stream",
     "text": [
      "\n",
      "Epoch 30 validation results: Loss=0.2432328032122718 | Accuracy=0.5833333333333334\n",
      "\n",
      "Adjusting learning rate of group 0 to 5.4548e-03.\n",
      "\n",
      "\n",
      "Running epoch 31 of 75...\n",
      "\n"
     ]
    },
    {
     "name": "stderr",
     "output_type": "stream",
     "text": [
      "100%|██████████| 27/27 [00:03<00:00,  8.96it/s]\n",
      "100%|██████████| 9/9 [00:00<00:00, 38.01it/s]\n"
     ]
    },
    {
     "name": "stdout",
     "output_type": "stream",
     "text": [
      "\n",
      "Epoch 31 validation results: Loss=0.24476913776662615 | Accuracy=0.6388888888888888\n",
      "\n",
      "Adjusting learning rate of group 0 to 5.3457e-03.\n",
      "\n",
      "\n",
      "Running epoch 32 of 75...\n",
      "\n"
     ]
    },
    {
     "name": "stderr",
     "output_type": "stream",
     "text": [
      "100%|██████████| 27/27 [00:03<00:00,  8.99it/s]\n",
      "100%|██████████| 9/9 [00:00<00:00, 40.92it/s]\n"
     ]
    },
    {
     "name": "stdout",
     "output_type": "stream",
     "text": [
      "\n",
      "Epoch 32 validation results: Loss=0.25379499793052673 | Accuracy=0.5\n",
      "\n",
      "Adjusting learning rate of group 0 to 5.2388e-03.\n",
      "\n",
      "\n",
      "Running epoch 33 of 75...\n",
      "\n"
     ]
    },
    {
     "name": "stderr",
     "output_type": "stream",
     "text": [
      "100%|██████████| 27/27 [00:02<00:00,  9.45it/s]\n",
      "100%|██████████| 9/9 [00:00<00:00, 40.85it/s]\n"
     ]
    },
    {
     "name": "stdout",
     "output_type": "stream",
     "text": [
      "\n",
      "Epoch 33 validation results: Loss=0.249597590830591 | Accuracy=0.5555555555555556\n",
      "\n",
      "Adjusting learning rate of group 0 to 5.1341e-03.\n",
      "\n",
      "\n",
      "Running epoch 34 of 75...\n",
      "\n"
     ]
    },
    {
     "name": "stderr",
     "output_type": "stream",
     "text": [
      "100%|██████████| 27/27 [00:02<00:00,  9.51it/s]\n",
      "100%|██████████| 9/9 [00:00<00:00, 42.61it/s]\n"
     ]
    },
    {
     "name": "stdout",
     "output_type": "stream",
     "text": [
      "\n",
      "Epoch 34 validation results: Loss=0.25356198185020024 | Accuracy=0.4722222222222222\n",
      "\n",
      "Adjusting learning rate of group 0 to 5.0314e-03.\n",
      "\n",
      "\n",
      "Running epoch 35 of 75...\n",
      "\n"
     ]
    },
    {
     "name": "stderr",
     "output_type": "stream",
     "text": [
      "100%|██████████| 27/27 [00:02<00:00,  9.46it/s]\n",
      "100%|██████████| 9/9 [00:00<00:00, 42.76it/s]\n"
     ]
    },
    {
     "name": "stdout",
     "output_type": "stream",
     "text": [
      "\n",
      "Epoch 35 validation results: Loss=0.23970802459451887 | Accuracy=0.5555555555555556\n",
      "\n",
      "Adjusting learning rate of group 0 to 4.9307e-03.\n",
      "\n",
      "\n",
      "Running epoch 36 of 75...\n",
      "\n"
     ]
    },
    {
     "name": "stderr",
     "output_type": "stream",
     "text": [
      "100%|██████████| 27/27 [00:02<00:00,  9.55it/s]\n",
      "100%|██████████| 9/9 [00:00<00:00, 42.67it/s]\n"
     ]
    },
    {
     "name": "stdout",
     "output_type": "stream",
     "text": [
      "\n",
      "Epoch 36 validation results: Loss=0.24862897727224562 | Accuracy=0.5555555555555556\n",
      "\n",
      "Adjusting learning rate of group 0 to 4.8321e-03.\n",
      "\n",
      "\n",
      "Running epoch 37 of 75...\n",
      "\n"
     ]
    },
    {
     "name": "stderr",
     "output_type": "stream",
     "text": [
      "100%|██████████| 27/27 [00:02<00:00,  9.55it/s]\n",
      "100%|██████████| 9/9 [00:00<00:00, 43.72it/s]\n"
     ]
    },
    {
     "name": "stdout",
     "output_type": "stream",
     "text": [
      "\n",
      "Epoch 37 validation results: Loss=0.25355370342731476 | Accuracy=0.5277777777777778\n",
      "\n",
      "Adjusting learning rate of group 0 to 4.7355e-03.\n",
      "\n",
      "\n",
      "Running epoch 38 of 75...\n",
      "\n"
     ]
    },
    {
     "name": "stderr",
     "output_type": "stream",
     "text": [
      "100%|██████████| 27/27 [00:02<00:00,  9.31it/s]\n",
      "100%|██████████| 9/9 [00:00<00:00, 36.17it/s]\n"
     ]
    },
    {
     "name": "stdout",
     "output_type": "stream",
     "text": [
      "\n",
      "Epoch 38 validation results: Loss=0.25707728001806474 | Accuracy=0.5277777777777778\n",
      "\n",
      "Adjusting learning rate of group 0 to 4.6408e-03.\n",
      "\n",
      "\n",
      "Running epoch 39 of 75...\n",
      "\n"
     ]
    },
    {
     "name": "stderr",
     "output_type": "stream",
     "text": [
      "100%|██████████| 27/27 [00:03<00:00,  8.39it/s]\n",
      "100%|██████████| 9/9 [00:00<00:00, 26.22it/s]\n"
     ]
    },
    {
     "name": "stdout",
     "output_type": "stream",
     "text": [
      "\n",
      "Epoch 39 validation results: Loss=0.23822300963931614 | Accuracy=0.6111111111111112\n",
      "\n",
      "Adjusting learning rate of group 0 to 4.5480e-03.\n",
      "\n",
      "\n",
      "Running epoch 40 of 75...\n",
      "\n"
     ]
    },
    {
     "name": "stderr",
     "output_type": "stream",
     "text": [
      "100%|██████████| 27/27 [00:03<00:00,  8.61it/s]\n",
      "100%|██████████| 9/9 [00:00<00:00, 39.74it/s]\n"
     ]
    },
    {
     "name": "stdout",
     "output_type": "stream",
     "text": [
      "\n",
      "Epoch 40 validation results: Loss=0.24565134114689297 | Accuracy=0.5833333333333334\n",
      "\n",
      "Adjusting learning rate of group 0 to 4.4570e-03.\n",
      "\n",
      "\n",
      "Running epoch 41 of 75...\n",
      "\n"
     ]
    },
    {
     "name": "stderr",
     "output_type": "stream",
     "text": [
      "100%|██████████| 27/27 [00:03<00:00,  7.75it/s]\n",
      "100%|██████████| 9/9 [00:00<00:00, 38.91it/s]\n"
     ]
    },
    {
     "name": "stdout",
     "output_type": "stream",
     "text": [
      "\n",
      "Epoch 41 validation results: Loss=0.233995215760337 | Accuracy=0.6388888888888888\n",
      "\n",
      "Adjusting learning rate of group 0 to 4.3679e-03.\n",
      "\n",
      "\n",
      "Running epoch 42 of 75...\n",
      "\n"
     ]
    },
    {
     "name": "stderr",
     "output_type": "stream",
     "text": [
      "100%|██████████| 27/27 [00:03<00:00,  7.99it/s]\n",
      "100%|██████████| 9/9 [00:00<00:00, 30.83it/s]\n"
     ]
    },
    {
     "name": "stdout",
     "output_type": "stream",
     "text": [
      "\n",
      "Epoch 42 validation results: Loss=0.22540852593051064 | Accuracy=0.6666666666666666\n",
      "\n",
      "Adjusting learning rate of group 0 to 4.2805e-03.\n",
      "\n",
      "\n",
      "Running epoch 43 of 75...\n",
      "\n"
     ]
    },
    {
     "name": "stderr",
     "output_type": "stream",
     "text": [
      "100%|██████████| 27/27 [00:03<00:00,  8.36it/s]\n",
      "100%|██████████| 9/9 [00:00<00:00, 35.65it/s]\n"
     ]
    },
    {
     "name": "stdout",
     "output_type": "stream",
     "text": [
      "\n",
      "Epoch 43 validation results: Loss=0.23447819550832114 | Accuracy=0.6388888888888888\n",
      "\n",
      "Adjusting learning rate of group 0 to 4.1949e-03.\n",
      "\n",
      "\n",
      "Running epoch 44 of 75...\n",
      "\n"
     ]
    },
    {
     "name": "stderr",
     "output_type": "stream",
     "text": [
      "100%|██████████| 27/27 [00:03<00:00,  8.55it/s]\n",
      "100%|██████████| 9/9 [00:00<00:00, 36.45it/s]\n"
     ]
    },
    {
     "name": "stdout",
     "output_type": "stream",
     "text": [
      "\n",
      "Epoch 44 validation results: Loss=0.23001298473940957 | Accuracy=0.6666666666666666\n",
      "\n",
      "Adjusting learning rate of group 0 to 4.1110e-03.\n",
      "\n",
      "\n",
      "Running epoch 45 of 75...\n",
      "\n"
     ]
    },
    {
     "name": "stderr",
     "output_type": "stream",
     "text": [
      "100%|██████████| 27/27 [00:03<00:00,  8.77it/s]\n",
      "100%|██████████| 9/9 [00:00<00:00, 36.31it/s]\n"
     ]
    },
    {
     "name": "stdout",
     "output_type": "stream",
     "text": [
      "\n",
      "Epoch 45 validation results: Loss=0.23300950725873312 | Accuracy=0.6111111111111112\n",
      "\n",
      "Adjusting learning rate of group 0 to 4.0288e-03.\n",
      "\n",
      "\n",
      "Running epoch 46 of 75...\n",
      "\n"
     ]
    },
    {
     "name": "stderr",
     "output_type": "stream",
     "text": [
      "100%|██████████| 27/27 [00:02<00:00,  9.20it/s]\n",
      "100%|██████████| 9/9 [00:00<00:00, 43.61it/s]\n"
     ]
    },
    {
     "name": "stdout",
     "output_type": "stream",
     "text": [
      "\n",
      "Epoch 46 validation results: Loss=0.226031341486507 | Accuracy=0.6666666666666666\n",
      "\n",
      "Adjusting learning rate of group 0 to 3.9482e-03.\n",
      "\n",
      "\n",
      "Running epoch 47 of 75...\n",
      "\n"
     ]
    },
    {
     "name": "stderr",
     "output_type": "stream",
     "text": [
      "100%|██████████| 27/27 [00:02<00:00,  9.47it/s]\n",
      "100%|██████████| 9/9 [00:00<00:00, 41.80it/s]\n"
     ]
    },
    {
     "name": "stdout",
     "output_type": "stream",
     "text": [
      "\n",
      "Epoch 47 validation results: Loss=0.23320840299129486 | Accuracy=0.6388888888888888\n",
      "\n",
      "Adjusting learning rate of group 0 to 3.8692e-03.\n",
      "\n",
      "\n",
      "Running epoch 48 of 75...\n",
      "\n"
     ]
    },
    {
     "name": "stderr",
     "output_type": "stream",
     "text": [
      "100%|██████████| 27/27 [00:02<00:00,  9.53it/s]\n",
      "100%|██████████| 9/9 [00:00<00:00, 43.90it/s]\n"
     ]
    },
    {
     "name": "stdout",
     "output_type": "stream",
     "text": [
      "\n",
      "Epoch 48 validation results: Loss=0.25858919156922233 | Accuracy=0.4444444444444444\n",
      "\n",
      "Adjusting learning rate of group 0 to 3.7919e-03.\n",
      "\n",
      "\n",
      "Running epoch 49 of 75...\n",
      "\n"
     ]
    },
    {
     "name": "stderr",
     "output_type": "stream",
     "text": [
      "100%|██████████| 27/27 [00:02<00:00,  9.42it/s]\n",
      "100%|██████████| 9/9 [00:00<00:00, 37.98it/s]\n"
     ]
    },
    {
     "name": "stdout",
     "output_type": "stream",
     "text": [
      "\n",
      "Epoch 49 validation results: Loss=0.2380353013674418 | Accuracy=0.6111111111111112\n",
      "\n",
      "Adjusting learning rate of group 0 to 3.7160e-03.\n",
      "\n",
      "\n",
      "Running epoch 50 of 75...\n",
      "\n"
     ]
    },
    {
     "name": "stderr",
     "output_type": "stream",
     "text": [
      "100%|██████████| 27/27 [00:02<00:00,  9.25it/s]\n",
      "100%|██████████| 9/9 [00:00<00:00, 36.44it/s]\n"
     ]
    },
    {
     "name": "stdout",
     "output_type": "stream",
     "text": [
      "\n",
      "Epoch 50 validation results: Loss=0.24112839003403982 | Accuracy=0.5833333333333334\n",
      "\n",
      "Adjusting learning rate of group 0 to 3.6417e-03.\n",
      "\n",
      "\n",
      "Running epoch 51 of 75...\n",
      "\n"
     ]
    },
    {
     "name": "stderr",
     "output_type": "stream",
     "text": [
      "100%|██████████| 27/27 [00:02<00:00,  9.45it/s]\n",
      "100%|██████████| 9/9 [00:00<00:00, 42.87it/s]\n"
     ]
    },
    {
     "name": "stdout",
     "output_type": "stream",
     "text": [
      "\n",
      "Epoch 51 validation results: Loss=0.22868063549200693 | Accuracy=0.6666666666666666\n",
      "\n",
      "Adjusting learning rate of group 0 to 3.5689e-03.\n",
      "\n",
      "\n",
      "Running epoch 52 of 75...\n",
      "\n"
     ]
    },
    {
     "name": "stderr",
     "output_type": "stream",
     "text": [
      "100%|██████████| 27/27 [00:02<00:00,  9.46it/s]\n",
      "100%|██████████| 9/9 [00:00<00:00, 39.94it/s]\n"
     ]
    },
    {
     "name": "stdout",
     "output_type": "stream",
     "text": [
      "\n",
      "Epoch 52 validation results: Loss=0.23182459010018241 | Accuracy=0.6666666666666666\n",
      "\n",
      "Adjusting learning rate of group 0 to 3.4975e-03.\n",
      "\n",
      "\n",
      "Running epoch 53 of 75...\n",
      "\n"
     ]
    },
    {
     "name": "stderr",
     "output_type": "stream",
     "text": [
      "100%|██████████| 27/27 [00:02<00:00,  9.15it/s]\n",
      "100%|██████████| 9/9 [00:00<00:00, 42.39it/s]\n"
     ]
    },
    {
     "name": "stdout",
     "output_type": "stream",
     "text": [
      "\n",
      "Epoch 53 validation results: Loss=0.22967936098575592 | Accuracy=0.6388888888888888\n",
      "\n",
      "Adjusting learning rate of group 0 to 3.4275e-03.\n",
      "\n",
      "\n",
      "Running epoch 54 of 75...\n",
      "\n"
     ]
    },
    {
     "name": "stderr",
     "output_type": "stream",
     "text": [
      "100%|██████████| 27/27 [00:02<00:00,  9.29it/s]\n",
      "100%|██████████| 9/9 [00:00<00:00, 43.53it/s]\n"
     ]
    },
    {
     "name": "stdout",
     "output_type": "stream",
     "text": [
      "\n",
      "Epoch 54 validation results: Loss=0.24913710355758667 | Accuracy=0.5277777777777778\n",
      "\n",
      "Adjusting learning rate of group 0 to 3.3590e-03.\n",
      "\n",
      "\n",
      "Running epoch 55 of 75...\n",
      "\n"
     ]
    },
    {
     "name": "stderr",
     "output_type": "stream",
     "text": [
      "100%|██████████| 27/27 [00:02<00:00,  9.48it/s]\n",
      "100%|██████████| 9/9 [00:00<00:00, 42.80it/s]\n"
     ]
    },
    {
     "name": "stdout",
     "output_type": "stream",
     "text": [
      "\n",
      "Epoch 55 validation results: Loss=0.23029661013020408 | Accuracy=0.6111111111111112\n",
      "\n",
      "Adjusting learning rate of group 0 to 3.2918e-03.\n",
      "\n",
      "\n",
      "Running epoch 56 of 75...\n",
      "\n"
     ]
    },
    {
     "name": "stderr",
     "output_type": "stream",
     "text": [
      "100%|██████████| 27/27 [00:02<00:00,  9.37it/s]\n",
      "100%|██████████| 9/9 [00:00<00:00, 41.51it/s]\n"
     ]
    },
    {
     "name": "stdout",
     "output_type": "stream",
     "text": [
      "\n",
      "Epoch 56 validation results: Loss=0.23471190366480085 | Accuracy=0.5833333333333334\n",
      "\n",
      "Adjusting learning rate of group 0 to 3.2260e-03.\n",
      "\n",
      "\n",
      "Running epoch 57 of 75...\n",
      "\n"
     ]
    },
    {
     "name": "stderr",
     "output_type": "stream",
     "text": [
      "100%|██████████| 27/27 [00:02<00:00,  9.05it/s]\n",
      "100%|██████████| 9/9 [00:00<00:00, 37.22it/s]\n"
     ]
    },
    {
     "name": "stdout",
     "output_type": "stream",
     "text": [
      "\n",
      "Epoch 57 validation results: Loss=0.2565344042248196 | Accuracy=0.5277777777777778\n",
      "\n",
      "Adjusting learning rate of group 0 to 3.1614e-03.\n",
      "\n",
      "\n",
      "Running epoch 58 of 75...\n",
      "\n"
     ]
    },
    {
     "name": "stderr",
     "output_type": "stream",
     "text": [
      "100%|██████████| 27/27 [00:02<00:00,  9.05it/s]\n",
      "100%|██████████| 9/9 [00:00<00:00, 43.90it/s]\n"
     ]
    },
    {
     "name": "stdout",
     "output_type": "stream",
     "text": [
      "\n",
      "Epoch 58 validation results: Loss=0.24483149581485325 | Accuracy=0.6111111111111112\n",
      "\n",
      "Adjusting learning rate of group 0 to 3.0982e-03.\n",
      "\n",
      "\n",
      "Running epoch 59 of 75...\n",
      "\n"
     ]
    },
    {
     "name": "stderr",
     "output_type": "stream",
     "text": [
      "100%|██████████| 27/27 [00:02<00:00,  9.22it/s]\n",
      "100%|██████████| 9/9 [00:00<00:00, 42.46it/s]\n"
     ]
    },
    {
     "name": "stdout",
     "output_type": "stream",
     "text": [
      "\n",
      "Epoch 59 validation results: Loss=0.2443597912788391 | Accuracy=0.5833333333333334\n",
      "\n",
      "Adjusting learning rate of group 0 to 3.0363e-03.\n",
      "\n",
      "\n",
      "Running epoch 60 of 75...\n",
      "\n"
     ]
    },
    {
     "name": "stderr",
     "output_type": "stream",
     "text": [
      "100%|██████████| 27/27 [00:03<00:00,  8.71it/s]\n",
      "100%|██████████| 9/9 [00:00<00:00, 37.75it/s]\n"
     ]
    },
    {
     "name": "stdout",
     "output_type": "stream",
     "text": [
      "\n",
      "Epoch 60 validation results: Loss=0.2513301836119758 | Accuracy=0.5277777777777778\n",
      "\n",
      "Adjusting learning rate of group 0 to 2.9755e-03.\n",
      "\n",
      "\n",
      "Running epoch 61 of 75...\n",
      "\n"
     ]
    },
    {
     "name": "stderr",
     "output_type": "stream",
     "text": [
      "100%|██████████| 27/27 [00:03<00:00,  8.15it/s]\n",
      "100%|██████████| 9/9 [00:00<00:00, 34.03it/s]\n"
     ]
    },
    {
     "name": "stdout",
     "output_type": "stream",
     "text": [
      "\n",
      "Epoch 61 validation results: Loss=0.23557040757603115 | Accuracy=0.6111111111111112\n",
      "\n",
      "Adjusting learning rate of group 0 to 2.9160e-03.\n",
      "\n",
      "\n",
      "Running epoch 62 of 75...\n",
      "\n"
     ]
    },
    {
     "name": "stderr",
     "output_type": "stream",
     "text": [
      "100%|██████████| 27/27 [00:03<00:00,  8.26it/s]\n",
      "100%|██████████| 9/9 [00:00<00:00, 34.56it/s]\n"
     ]
    },
    {
     "name": "stdout",
     "output_type": "stream",
     "text": [
      "\n",
      "Epoch 62 validation results: Loss=0.25481996768050724 | Accuracy=0.5277777777777778\n",
      "\n",
      "Adjusting learning rate of group 0 to 2.8577e-03.\n",
      "\n",
      "\n",
      "Running epoch 63 of 75...\n",
      "\n"
     ]
    },
    {
     "name": "stderr",
     "output_type": "stream",
     "text": [
      "100%|██████████| 27/27 [00:03<00:00,  8.94it/s]\n",
      "100%|██████████| 9/9 [00:00<00:00, 40.79it/s]\n"
     ]
    },
    {
     "name": "stdout",
     "output_type": "stream",
     "text": [
      "\n",
      "Epoch 63 validation results: Loss=0.2540459516975615 | Accuracy=0.5\n",
      "\n",
      "Adjusting learning rate of group 0 to 2.8005e-03.\n",
      "\n",
      "\n",
      "Running epoch 64 of 75...\n",
      "\n"
     ]
    },
    {
     "name": "stderr",
     "output_type": "stream",
     "text": [
      "100%|██████████| 27/27 [00:03<00:00,  8.94it/s]\n",
      "100%|██████████| 9/9 [00:00<00:00, 42.05it/s]\n"
     ]
    },
    {
     "name": "stdout",
     "output_type": "stream",
     "text": [
      "\n",
      "Epoch 64 validation results: Loss=0.2415287113851971 | Accuracy=0.5833333333333334\n",
      "\n",
      "Adjusting learning rate of group 0 to 2.7445e-03.\n",
      "\n",
      "\n",
      "Running epoch 65 of 75...\n",
      "\n"
     ]
    },
    {
     "name": "stderr",
     "output_type": "stream",
     "text": [
      "100%|██████████| 27/27 [00:02<00:00,  9.29it/s]\n",
      "100%|██████████| 9/9 [00:00<00:00, 42.42it/s]\n"
     ]
    },
    {
     "name": "stdout",
     "output_type": "stream",
     "text": [
      "\n",
      "Epoch 65 validation results: Loss=0.24776674972640145 | Accuracy=0.5\n",
      "\n",
      "Adjusting learning rate of group 0 to 2.6896e-03.\n",
      "\n",
      "\n",
      "Running epoch 66 of 75...\n",
      "\n"
     ]
    },
    {
     "name": "stderr",
     "output_type": "stream",
     "text": [
      "100%|██████████| 27/27 [00:02<00:00,  9.36it/s]\n",
      "100%|██████████| 9/9 [00:00<00:00, 42.61it/s]\n"
     ]
    },
    {
     "name": "stdout",
     "output_type": "stream",
     "text": [
      "\n",
      "Epoch 66 validation results: Loss=0.2261993239323298 | Accuracy=0.6388888888888888\n",
      "\n",
      "Adjusting learning rate of group 0 to 2.6359e-03.\n",
      "\n",
      "\n",
      "Running epoch 67 of 75...\n",
      "\n"
     ]
    },
    {
     "name": "stderr",
     "output_type": "stream",
     "text": [
      "100%|██████████| 27/27 [00:02<00:00,  9.52it/s]\n",
      "100%|██████████| 9/9 [00:00<00:00, 40.66it/s]\n"
     ]
    },
    {
     "name": "stdout",
     "output_type": "stream",
     "text": [
      "\n",
      "Epoch 67 validation results: Loss=0.24487794935703278 | Accuracy=0.5555555555555556\n",
      "\n",
      "Adjusting learning rate of group 0 to 2.5831e-03.\n",
      "\n",
      "\n",
      "Running epoch 68 of 75...\n",
      "\n"
     ]
    },
    {
     "name": "stderr",
     "output_type": "stream",
     "text": [
      "100%|██████████| 27/27 [00:03<00:00,  8.99it/s]\n",
      "100%|██████████| 9/9 [00:00<00:00, 42.41it/s]\n"
     ]
    },
    {
     "name": "stdout",
     "output_type": "stream",
     "text": [
      "\n",
      "Epoch 68 validation results: Loss=0.24283449351787567 | Accuracy=0.5277777777777778\n",
      "\n",
      "Adjusting learning rate of group 0 to 2.5315e-03.\n",
      "\n",
      "\n",
      "Running epoch 69 of 75...\n",
      "\n"
     ]
    },
    {
     "name": "stderr",
     "output_type": "stream",
     "text": [
      "100%|██████████| 27/27 [00:03<00:00,  8.69it/s]\n",
      "100%|██████████| 9/9 [00:00<00:00, 37.45it/s]\n"
     ]
    },
    {
     "name": "stdout",
     "output_type": "stream",
     "text": [
      "\n",
      "Epoch 69 validation results: Loss=0.2362517515818278 | Accuracy=0.5555555555555556\n",
      "\n",
      "Adjusting learning rate of group 0 to 2.4808e-03.\n",
      "\n",
      "\n",
      "Running epoch 70 of 75...\n",
      "\n"
     ]
    },
    {
     "name": "stderr",
     "output_type": "stream",
     "text": [
      "100%|██████████| 27/27 [00:03<00:00,  8.23it/s]\n",
      "100%|██████████| 9/9 [00:00<00:00, 38.03it/s]\n"
     ]
    },
    {
     "name": "stdout",
     "output_type": "stream",
     "text": [
      "\n",
      "Epoch 70 validation results: Loss=0.23402082588937548 | Accuracy=0.6111111111111112\n",
      "\n",
      "Adjusting learning rate of group 0 to 2.4312e-03.\n",
      "\n",
      "\n",
      "Running epoch 71 of 75...\n",
      "\n"
     ]
    },
    {
     "name": "stderr",
     "output_type": "stream",
     "text": [
      "100%|██████████| 27/27 [00:03<00:00,  8.13it/s]\n",
      "100%|██████████| 9/9 [00:00<00:00, 39.23it/s]\n"
     ]
    },
    {
     "name": "stdout",
     "output_type": "stream",
     "text": [
      "\n",
      "Epoch 71 validation results: Loss=0.24141494598653582 | Accuracy=0.5555555555555556\n",
      "\n",
      "Adjusting learning rate of group 0 to 2.3826e-03.\n",
      "\n",
      "\n",
      "Running epoch 72 of 75...\n",
      "\n"
     ]
    },
    {
     "name": "stderr",
     "output_type": "stream",
     "text": [
      "100%|██████████| 27/27 [00:03<00:00,  8.51it/s]\n",
      "100%|██████████| 9/9 [00:00<00:00, 38.73it/s]\n"
     ]
    },
    {
     "name": "stdout",
     "output_type": "stream",
     "text": [
      "\n",
      "Epoch 72 validation results: Loss=0.22649648123317295 | Accuracy=0.6388888888888888\n",
      "\n",
      "Adjusting learning rate of group 0 to 2.3349e-03.\n",
      "\n",
      "\n",
      "Running epoch 73 of 75...\n",
      "\n"
     ]
    },
    {
     "name": "stderr",
     "output_type": "stream",
     "text": [
      "100%|██████████| 27/27 [00:03<00:00,  8.42it/s]\n",
      "100%|██████████| 9/9 [00:00<00:00, 32.47it/s]\n"
     ]
    },
    {
     "name": "stdout",
     "output_type": "stream",
     "text": [
      "\n",
      "Epoch 73 validation results: Loss=0.23277915683057573 | Accuracy=0.5833333333333334\n",
      "\n",
      "Adjusting learning rate of group 0 to 2.2883e-03.\n",
      "\n",
      "\n",
      "Running epoch 74 of 75...\n",
      "\n"
     ]
    },
    {
     "name": "stderr",
     "output_type": "stream",
     "text": [
      "100%|██████████| 27/27 [00:03<00:00,  8.43it/s]\n",
      "100%|██████████| 9/9 [00:00<00:00, 36.62it/s]\n"
     ]
    },
    {
     "name": "stdout",
     "output_type": "stream",
     "text": [
      "\n",
      "Epoch 74 validation results: Loss=0.2239456292655733 | Accuracy=0.6388888888888888\n",
      "\n",
      "Adjusting learning rate of group 0 to 2.2425e-03.\n",
      "\n",
      "\n",
      "Running epoch 75 of 75...\n",
      "\n"
     ]
    },
    {
     "name": "stderr",
     "output_type": "stream",
     "text": [
      "100%|██████████| 27/27 [00:03<00:00,  8.07it/s]\n",
      "100%|██████████| 9/9 [00:00<00:00, 39.13it/s]\n"
     ]
    },
    {
     "name": "stdout",
     "output_type": "stream",
     "text": [
      "\n",
      "Epoch 75 validation results: Loss=0.2278304265605079 | Accuracy=0.6388888888888888\n",
      "\n",
      "Adjusting learning rate of group 0 to 2.1976e-03.\n",
      "model saved into './outputs_FT/model.pt'\n",
      "Final train loss: 0.2078018006351259\n",
      "Final val loss: 0.2278304265605079\n",
      "Final train accuracy: 0.6944444444444444\n",
      "Final val accuracy: 0.6388888888888888\n"
     ]
    },
    {
     "data": {
      "image/png": "[encoded data removed]",
      "text/plain": [
       "<Figure size 500x500 with 1 Axes>"
      ]
     },
     "metadata": {},
     "output_type": "display_data"
    },
    {
     "data": {
      "image/png": "[encoded data removed]",
      "text/plain": [
       "<Figure size 500x500 with 1 Axes>"
      ]
     },
     "metadata": {},
     "output_type": "display_data"
    }
   ],
   "source": [
    "\"\"\" Train \"\"\"\n",
    "\n",
    "trained_model = './outputs_FT/model.pt' # final model will be saved \n",
    "\n",
    "train_loss = []\n",
    "train_accuracy = []\n",
    "val_loss = []\n",
    "val_accuracy = []\n",
    "epochs = []\n",
    "    \n",
    "for epoch in range(1, NUM_EPOCHS+1):\n",
    "    print(f'\\n\\nRunning epoch {epoch} of {NUM_EPOCHS}...\\n')\n",
    "    epochs.append(epoch)\n",
    "\n",
    "    #-------------------------Train-------------------------\n",
    "\n",
    "    loss, accuracy = run_epoch(model, optimizer, train_loader, criterion, train=True)\n",
    "    train_loss.append(loss)\n",
    "    train_accuracy.append(accuracy)\n",
    "\n",
    "    #-------------------------Validation--------------------------\n",
    "    # Set network train/test mode to 'test' in the next line\n",
    "\n",
    "    with torch.no_grad():\n",
    "        loss_val, accuracy_val = run_epoch(model, optimizer, test_loader, criterion, train=False)\n",
    "    val_loss.append(loss_val)\n",
    "    val_accuracy.append(accuracy_val)\n",
    "    print(f'\\nEpoch {epoch} validation results: Loss={loss_val} | Accuracy={accuracy_val}\\n')\n",
    "\n",
    "    scheduler.step()\n",
    "\n",
    "    #  print(\"current learning rate:\", optimizer.param_groups[0]['lr'])\n",
    "\n",
    "    # Plot and save\n",
    "    plt.figure(figsize=(5, 5), num=1)\n",
    "    plt.clf()\n",
    "    plt.plot(epochs, train_loss, label='Train')\n",
    "    plt.plot(epochs, val_loss, label='Test')\n",
    "    plt.legend()\n",
    "    plt.grid()\n",
    "    plt.title('Cross entropy loss')\n",
    "    plt.xlabel('Epoch')\n",
    "    plt.ylabel('Loss')\n",
    "    plt.savefig('outputs_FT/01-loss.pdf')\n",
    "\n",
    "    plt.figure(figsize=(5, 5), num=2)\n",
    "    plt.clf()\n",
    "    plt.plot(epochs, train_accuracy, label='Train')\n",
    "    plt.plot(epochs, val_accuracy, label='Test')\n",
    "    plt.legend()\n",
    "    plt.grid()\n",
    "    plt.title('Accuracy')\n",
    "    plt.xlabel('Epoch')\n",
    "    plt.ylabel('Accuracy')\n",
    "    plt.savefig('outputs_FT/02-accuracy.pdf')\n",
    "\n",
    "\n",
    "torch.save(model.state_dict(), './outputs_FT/model.pt')\n",
    "print(\"model saved into './outputs_FT/model.pt'\")\n",
    "\n",
    "del model\n",
    "\n",
    "print(f'Final train loss: {train_loss[-1]}')\n",
    "print(f'Final val loss: {val_loss[-1]}')\n",
    "print(f'Final train accuracy: {train_accuracy[-1]}')\n",
    "print(f'Final val accuracy: {val_accuracy[-1]}')"
   ]
  }
 ],
 "metadata": {
  "kernelspec": {
   "display_name": "Python 3 (ipykernel)",
   "language": "python",
   "name": "python3"
  },
  "language_info": {
   "codemirror_mode": {
    "name": "ipython",
    "version": 3
   },
   "file_extension": ".py",
   "mimetype": "text/x-python",
   "name": "python",
   "nbconvert_exporter": "python",
   "pygments_lexer": "ipython3",
   "version": "3.8.16"
  }
 },
 "nbformat": 4,
 "nbformat_minor": 5
}
