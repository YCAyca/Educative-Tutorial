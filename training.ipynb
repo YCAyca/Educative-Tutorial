{
 "cells": [
  {
   "cell_type": "markdown",
   "id": "51e25010",
   "metadata": {},
   "source": [
    "Import the necessary libraries and create an outputs folder to store train results"
   ]
  },
  {
   "cell_type": "code",
   "execution_count": 1,
   "id": "5d5584e9",
   "metadata": {},
   "outputs": [
    {
     "name": "stderr",
     "output_type": "stream",
     "text": [
      "<frozen importlib._bootstrap>:219: RuntimeWarning: scipy._lib.messagestream.MessageStream size changed, may indicate binary incompatibility. Expected 56 from C header, got 64 from PyObject\n"
     ]
    },
    {
     "name": "stdout",
     "output_type": "stream",
     "text": [
      "Imports OK\n"
     ]
    }
   ],
   "source": [
    "import numpy as np\n",
    "import matplotlib.pyplot as plt\n",
    "import os\n",
    "import torch\n",
    "from tqdm import tqdm\n",
    "from torch.utils.data import DataLoader\n",
    "\n",
    "from data import FlowersDataset, split_dataset\n",
    "from network import Net\n",
    "import torch.optim as optim\n",
    "import torch.nn as nn\n",
    "from torch.optim.lr_scheduler import ExponentialLR\n",
    "import random\n",
    "from torchvision.utils import make_grid \n",
    "from sklearn.metrics import confusion_matrix\n",
    "\n",
    "import pandas as pd\n",
    "import seaborn as sn\n",
    "import cv2\n",
    "from PIL import Image\n",
    "\n",
    "\n",
    "from torchvision import  transforms\n",
    "import torchvision.transforms.functional as F\n",
    "\n",
    "if not os.path.exists('./outputs'):\n",
    "    os.mkdir('./outputs')\n",
    "    \n",
    "\n",
    "print('Imports OK')"
   ]
  },
  {
   "cell_type": "markdown",
   "id": "78d6ad1e",
   "metadata": {},
   "source": [
    "Set global parameters to get prepared for training. Note that USE_CUDA parameter is used to decide which device is going to use for training. If you have a GPU and cuda is available to run the model in your GPU, its better to set this parameter to True. In this tutorial's built in framework we are only able to use CPU so we set this parameter to False"
   ]
  },
  {
   "cell_type": "code",
   "execution_count": 2,
   "id": "a3349270",
   "metadata": {},
   "outputs": [
    {
     "name": "stdout",
     "output_type": "stream",
     "text": [
      "Parameters OK\n",
      "using : cpu\n"
     ]
    }
   ],
   "source": [
    "\"\"\" Set Global Parameters \"\"\"\n",
    "\n",
    "USE_CUDA = False\n",
    "\n",
    "DATASET_PATH = './data_flowers/'\n",
    "\n",
    "BATCH_SIZE = 16 # Number of images that are used for calculating gradients at each step\n",
    "\n",
    "NUM_EPOCHS = 15 # Number of times we will go through all the training images. \n",
    "\n",
    "LEARNING_RATE = 0.01 # Initial learning rate\n",
    "MOMENTUM = 0.9 # Momentum for the gradient descent (SGD with momentum will be used)\n",
    "WEIGHT_DECAY = 0.001 # L2 Regularization factor to reduce overfitting\n",
    "\n",
    "nb_classes = 3\n",
    "\n",
    "#reproducibility\n",
    "np.random.seed(0)\n",
    "random.seed(0)  \n",
    "torch.manual_seed(0) \n",
    "\n",
    "if USE_CUDA:\n",
    "    device = torch.device('cuda:0' if torch.cuda.is_available() else 'cpu') #check again if cuda is really available\n",
    "else:\n",
    "    device = torch.device(\"cpu\")\n",
    "\n",
    "print('Parameters OK')\n",
    "print(\"using :\", device)\n"
   ]
  },
  {
   "cell_type": "code",
   "execution_count": 3,
   "id": "467bc827",
   "metadata": {},
   "outputs": [
    {
     "name": "stdout",
     "output_type": "stream",
     "text": [
      "Adjusting learning rate of group 0 to 1.0000e-02.\n",
      "Net(\n",
      "  (convolutions): Sequential(\n",
      "    (0): Conv2d(3, 4, kernel_size=(3, 3), stride=(1, 1), padding=(1, 1))\n",
      "    (1): BatchNorm2d(4, eps=1e-05, momentum=0.1, affine=True, track_running_stats=True)\n",
      "    (2): ReLU(inplace=True)\n",
      "    (3): MaxPool2d(kernel_size=2, stride=2, padding=0, dilation=1, ceil_mode=False)\n",
      "    (4): Conv2d(4, 8, kernel_size=(5, 5), stride=(1, 1), padding=(1, 1))\n",
      "    (5): BatchNorm2d(8, eps=1e-05, momentum=0.1, affine=True, track_running_stats=True)\n",
      "    (6): ReLU(inplace=True)\n",
      "    (7): MaxPool2d(kernel_size=2, stride=2, padding=0, dilation=1, ceil_mode=False)\n",
      "    (8): Conv2d(8, 16, kernel_size=(5, 5), stride=(1, 1), padding=(1, 1))\n",
      "    (9): BatchNorm2d(16, eps=1e-05, momentum=0.1, affine=True, track_running_stats=True)\n",
      "    (10): ReLU(inplace=True)\n",
      "    (11): MaxPool2d(kernel_size=2, stride=2, padding=0, dilation=1, ceil_mode=False)\n",
      "  )\n",
      "  (fully_connected): Sequential(\n",
      "    (0): Linear(in_features=12544, out_features=1000, bias=True)\n",
      "    (1): ReLU(inplace=True)\n",
      "    (2): Linear(in_features=1000, out_features=128, bias=True)\n",
      "    (3): ReLU(inplace=True)\n",
      "    (4): Linear(in_features=128, out_features=3, bias=True)\n",
      "    (5): Softmax(dim=1)\n",
      "  )\n",
      ")\n",
      "Network OK\n"
     ]
    }
   ],
   "source": [
    "\"\"\" Create Neural Network \"\"\"\n",
    "\n",
    "model = Net(nb_classes) \n",
    "    \n",
    "# Define criterion, optimizer, and scheduler\n",
    "criterion = nn.CrossEntropyLoss()\n",
    "optimizer=optim.SGD(model.parameters(), lr=LEARNING_RATE, weight_decay=WEIGHT_DECAY, momentum=MOMENTUM)\n",
    "scheduler = ExponentialLR(optimizer, gamma=0.98, verbose=True)\n",
    "\n",
    "model.train()\n",
    "model.to(device) \n",
    "\n",
    "print(model)\n",
    "\n",
    "print('Network OK')"
   ]
  },
  {
   "cell_type": "markdown",
   "id": "5d31bc63",
   "metadata": {},
   "source": [
    "We will use FlowersDataset class that we examined in the previous lecture, but to be able to import it we had to create a data.py module since .ipynb files can't be used as modules to import. After that, data preparation steps are similar with previous lecture."
   ]
  },
  {
   "cell_type": "code",
   "execution_count": 4,
   "id": "02b72e3e",
   "metadata": {},
   "outputs": [
    {
     "name": "stdout",
     "output_type": "stream",
     "text": [
      "Dataset includes 184  images\n",
      " 110  of them assigned into train 36  of them assigned into in test 38  of them assigned into validation sub dataset\n",
      "Dataloaders OK\n"
     ]
    }
   ],
   "source": [
    "\"\"\" Prepare Data \"\"\"\n",
    "\n",
    "generator=torch.Generator().manual_seed(42)\n",
    "\n",
    "train_list, val_list, test_list, class_idx = split_dataset(data_path = \"./data_flowers/\")\n",
    "\n",
    "train_transforms=transforms.Compose([\n",
    "    transforms.ToPILImage(),\n",
    "    transforms.Resize((240,240)),\n",
    "    transforms.ToTensor()\n",
    "])    \n",
    "\n",
    "val_transforms=transforms.Compose([\n",
    "    transforms.ToPILImage(),\n",
    "    transforms.Resize((240,240)),\n",
    "    transforms.ToTensor()\n",
    "])  \n",
    "\n",
    "train_dataset = FlowersDataset(train_list, class_idx, train_transforms)\n",
    "val_dataset = FlowersDataset(val_list, class_idx, val_transforms)\n",
    "test_dataset = FlowersDataset(test_list, class_idx, val_transforms)\n",
    "\n",
    "train_loader = DataLoader(train_dataset, batch_size=4, shuffle=True, generator=generator)\n",
    "val_loader = DataLoader(val_dataset, batch_size=4, shuffle=False) \n",
    "test_loader = DataLoader(test_dataset, batch_size=4, shuffle=False)\n",
    "\n",
    "print('Dataloaders OK')"
   ]
  },
  {
   "cell_type": "markdown",
   "id": "f31b12d2",
   "metadata": {},
   "source": [
    "Creating run_epoch function to run 1 epoch. <br>\n",
    "\n",
    "For this purpose, we load the data by batchs using our dataloader and tqdm built-in function, we will send these images directly to the model <b> outputs = model(imgs.float()) </b> and calculate the loss <b> loss = criterion(outputs, labels) </b>. We put gradients to zero, before calculating the current gradients to be sure they dont accumulate <b> optimizer.zero_grad() </b> finally we use loss to calculate the gradients and apply backpropagation <b> loss.backward() </b>. Using <b> optimizer.step() </b> function we update our optimizer (SGD + momentum) to prepare it for the next batch. (Remember that with momentum we keep the old gradients with their weighted average) \n",
    "\n",
    "As the next step, we extract the predicted class <b> _, predicted = torch.max(outputs.data, 1) </b> and check if its true or not. According to this, we calculate the train accuracy at the end of the epoch. \n",
    "\n",
    "As you may know, accuracy in image classification is simply (correct predictions / total predictions)"
   ]
  },
  {
   "cell_type": "code",
   "execution_count": 5,
   "id": "7017fb48",
   "metadata": {},
   "outputs": [],
   "source": [
    "def run_epoch(net, optimizer, dataloader, criterion, train=True):\n",
    "    epoch_total_loss = 0\n",
    "    epoch_total_samples = 0\n",
    "    epoch_total_correct = 0\n",
    "\n",
    "\n",
    "    for batch in tqdm(dataloader):\n",
    "        imgs, labels = batch[0].to(device), batch[1].to(device)\n",
    "   \n",
    "        outputs = model(imgs.float())\n",
    "        loss = criterion(outputs, labels)\n",
    "           \n",
    "        \"\"\" \n",
    "            Note that this function will be used to calculate validation loss & accuracy also.\n",
    "            But the gradients should be updated only with train dataset. So we use if train: statement\n",
    "        \"\"\"\n",
    "        if train: \n",
    "            optimizer.zero_grad()\n",
    "            loss.backward()\n",
    "            optimizer.step()\n",
    "        \n",
    "        _, predicted = torch.max(outputs.data, 1)\n",
    "        \n",
    "        with torch.no_grad():\n",
    "            epoch_total_samples += labels.size(0)\n",
    "            epoch_total_loss += loss.item()\n",
    "            epoch_total_correct += (predicted == labels).sum().item()\n",
    "\n",
    "    return epoch_total_loss / epoch_total_samples, epoch_total_correct / epoch_total_samples"
   ]
  },
  {
   "cell_type": "markdown",
   "id": "a8433a66",
   "metadata": {},
   "source": [
    "Time to train!"
   ]
  },
  {
   "cell_type": "code",
   "execution_count": 6,
   "id": "4ec0cc4c",
   "metadata": {},
   "outputs": [
    {
     "name": "stdout",
     "output_type": "stream",
     "text": [
      "\n",
      "\n",
      "Running epoch 1 of 15...\n",
      "\n"
     ]
    },
    {
     "name": "stderr",
     "output_type": "stream",
     "text": [
      "100%|██████████| 28/28 [00:01<00:00, 14.07it/s]\n",
      "100%|██████████| 9/9 [00:00<00:00, 40.28it/s]\n"
     ]
    },
    {
     "name": "stdout",
     "output_type": "stream",
     "text": [
      "\n",
      "Epoch 1 validation results: Loss=0.28385257224241894 | Accuracy=0.3333333333333333\n",
      "\n",
      "Adjusting learning rate of group 0 to 9.8000e-03.\n",
      "\n",
      "\n",
      "Running epoch 2 of 15...\n",
      "\n"
     ]
    },
    {
     "name": "stderr",
     "output_type": "stream",
     "text": [
      "100%|██████████| 28/28 [00:01<00:00, 14.32it/s]\n",
      "100%|██████████| 9/9 [00:00<00:00, 50.28it/s]\n"
     ]
    },
    {
     "name": "stdout",
     "output_type": "stream",
     "text": [
      "\n",
      "Epoch 2 validation results: Loss=0.2882990522517098 | Accuracy=0.3055555555555556\n",
      "\n",
      "Adjusting learning rate of group 0 to 9.6040e-03.\n",
      "\n",
      "\n",
      "Running epoch 3 of 15...\n",
      "\n"
     ]
    },
    {
     "name": "stderr",
     "output_type": "stream",
     "text": [
      "100%|██████████| 28/28 [00:01<00:00, 14.66it/s]\n",
      "100%|██████████| 9/9 [00:00<00:00, 50.14it/s]\n"
     ]
    },
    {
     "name": "stdout",
     "output_type": "stream",
     "text": [
      "\n",
      "Epoch 3 validation results: Loss=0.2812376452816857 | Accuracy=0.4166666666666667\n",
      "\n",
      "Adjusting learning rate of group 0 to 9.4119e-03.\n",
      "\n",
      "\n",
      "Running epoch 4 of 15...\n",
      "\n"
     ]
    },
    {
     "name": "stderr",
     "output_type": "stream",
     "text": [
      "100%|██████████| 28/28 [00:02<00:00, 13.47it/s]\n",
      "100%|██████████| 9/9 [00:00<00:00, 46.40it/s]\n"
     ]
    },
    {
     "name": "stdout",
     "output_type": "stream",
     "text": [
      "\n",
      "Epoch 4 validation results: Loss=0.26351459986633724 | Accuracy=0.4166666666666667\n",
      "\n",
      "Adjusting learning rate of group 0 to 9.2237e-03.\n",
      "\n",
      "\n",
      "Running epoch 5 of 15...\n",
      "\n"
     ]
    },
    {
     "name": "stderr",
     "output_type": "stream",
     "text": [
      "100%|██████████| 28/28 [00:01<00:00, 14.80it/s]\n",
      "100%|██████████| 9/9 [00:00<00:00, 49.06it/s]\n"
     ]
    },
    {
     "name": "stdout",
     "output_type": "stream",
     "text": [
      "\n",
      "Epoch 5 validation results: Loss=0.29035986628797317 | Accuracy=0.3055555555555556\n",
      "\n",
      "Adjusting learning rate of group 0 to 9.0392e-03.\n",
      "\n",
      "\n",
      "Running epoch 6 of 15...\n",
      "\n"
     ]
    },
    {
     "name": "stderr",
     "output_type": "stream",
     "text": [
      "100%|██████████| 28/28 [00:01<00:00, 14.40it/s]\n",
      "100%|██████████| 9/9 [00:00<00:00, 49.46it/s]\n"
     ]
    },
    {
     "name": "stdout",
     "output_type": "stream",
     "text": [
      "\n",
      "Epoch 6 validation results: Loss=0.2336872418721517 | Accuracy=0.6111111111111112\n",
      "\n",
      "Adjusting learning rate of group 0 to 8.8584e-03.\n",
      "\n",
      "\n",
      "Running epoch 7 of 15...\n",
      "\n"
     ]
    },
    {
     "name": "stderr",
     "output_type": "stream",
     "text": [
      "100%|██████████| 28/28 [00:01<00:00, 14.81it/s]\n",
      "100%|██████████| 9/9 [00:00<00:00, 51.22it/s]\n"
     ]
    },
    {
     "name": "stdout",
     "output_type": "stream",
     "text": [
      "\n",
      "Epoch 7 validation results: Loss=0.2503812594546212 | Accuracy=0.5277777777777778\n",
      "\n",
      "Adjusting learning rate of group 0 to 8.6813e-03.\n",
      "\n",
      "\n",
      "Running epoch 8 of 15...\n",
      "\n"
     ]
    },
    {
     "name": "stderr",
     "output_type": "stream",
     "text": [
      "100%|██████████| 28/28 [00:01<00:00, 14.39it/s]\n",
      "100%|██████████| 9/9 [00:00<00:00, 47.50it/s]\n"
     ]
    },
    {
     "name": "stdout",
     "output_type": "stream",
     "text": [
      "\n",
      "Epoch 8 validation results: Loss=0.2727937234772576 | Accuracy=0.4444444444444444\n",
      "\n",
      "Adjusting learning rate of group 0 to 8.5076e-03.\n",
      "\n",
      "\n",
      "Running epoch 9 of 15...\n",
      "\n"
     ]
    },
    {
     "name": "stderr",
     "output_type": "stream",
     "text": [
      "100%|██████████| 28/28 [00:01<00:00, 14.67it/s]\n",
      "100%|██████████| 9/9 [00:00<00:00, 46.61it/s]\n"
     ]
    },
    {
     "name": "stdout",
     "output_type": "stream",
     "text": [
      "\n",
      "Epoch 9 validation results: Loss=0.27688077423307633 | Accuracy=0.4166666666666667\n",
      "\n",
      "Adjusting learning rate of group 0 to 8.3375e-03.\n",
      "\n",
      "\n",
      "Running epoch 10 of 15...\n",
      "\n"
     ]
    },
    {
     "name": "stderr",
     "output_type": "stream",
     "text": [
      "100%|██████████| 28/28 [00:01<00:00, 14.68it/s]\n",
      "100%|██████████| 9/9 [00:00<00:00, 52.34it/s]\n"
     ]
    },
    {
     "name": "stdout",
     "output_type": "stream",
     "text": [
      "\n",
      "Epoch 10 validation results: Loss=0.2661828051010768 | Accuracy=0.5\n",
      "\n",
      "Adjusting learning rate of group 0 to 8.1707e-03.\n",
      "\n",
      "\n",
      "Running epoch 11 of 15...\n",
      "\n"
     ]
    },
    {
     "name": "stderr",
     "output_type": "stream",
     "text": [
      "100%|██████████| 28/28 [00:02<00:00, 13.96it/s]\n",
      "100%|██████████| 9/9 [00:00<00:00, 45.58it/s]\n"
     ]
    },
    {
     "name": "stdout",
     "output_type": "stream",
     "text": [
      "\n",
      "Epoch 11 validation results: Loss=0.28077757855256397 | Accuracy=0.3888888888888889\n",
      "\n",
      "Adjusting learning rate of group 0 to 8.0073e-03.\n",
      "\n",
      "\n",
      "Running epoch 12 of 15...\n",
      "\n"
     ]
    },
    {
     "name": "stderr",
     "output_type": "stream",
     "text": [
      "100%|██████████| 28/28 [00:01<00:00, 14.02it/s]\n",
      "100%|██████████| 9/9 [00:00<00:00, 51.24it/s]\n"
     ]
    },
    {
     "name": "stdout",
     "output_type": "stream",
     "text": [
      "\n",
      "Epoch 12 validation results: Loss=0.2804033938381407 | Accuracy=0.4166666666666667\n",
      "\n",
      "Adjusting learning rate of group 0 to 7.8472e-03.\n",
      "\n",
      "\n",
      "Running epoch 13 of 15...\n",
      "\n"
     ]
    },
    {
     "name": "stderr",
     "output_type": "stream",
     "text": [
      "100%|██████████| 28/28 [00:01<00:00, 14.21it/s]\n",
      "100%|██████████| 9/9 [00:00<00:00, 48.37it/s]\n"
     ]
    },
    {
     "name": "stdout",
     "output_type": "stream",
     "text": [
      "\n",
      "Epoch 13 validation results: Loss=0.27879340946674347 | Accuracy=0.4166666666666667\n",
      "\n",
      "Adjusting learning rate of group 0 to 7.6902e-03.\n",
      "\n",
      "\n",
      "Running epoch 14 of 15...\n",
      "\n"
     ]
    },
    {
     "name": "stderr",
     "output_type": "stream",
     "text": [
      "100%|██████████| 28/28 [00:01<00:00, 14.28it/s]\n",
      "100%|██████████| 9/9 [00:00<00:00, 49.81it/s]\n"
     ]
    },
    {
     "name": "stdout",
     "output_type": "stream",
     "text": [
      "\n",
      "Epoch 14 validation results: Loss=0.27078329026699066 | Accuracy=0.4444444444444444\n",
      "\n",
      "Adjusting learning rate of group 0 to 7.5364e-03.\n",
      "\n",
      "\n",
      "Running epoch 15 of 15...\n",
      "\n"
     ]
    },
    {
     "name": "stderr",
     "output_type": "stream",
     "text": [
      "100%|██████████| 28/28 [00:02<00:00, 13.83it/s]\n",
      "100%|██████████| 9/9 [00:00<00:00, 46.24it/s]\n"
     ]
    },
    {
     "name": "stdout",
     "output_type": "stream",
     "text": [
      "\n",
      "Epoch 15 validation results: Loss=0.2596956325901879 | Accuracy=0.4722222222222222\n",
      "\n",
      "Adjusting learning rate of group 0 to 7.3857e-03.\n",
      "model saved into './outputs/model.pt'\n",
      "Final train loss: 0.18624434742060575\n",
      "Final val loss: 0.2596956325901879\n",
      "Final train accuracy: 0.8090909090909091\n",
      "Final val accuracy: 0.4722222222222222\n"
     ]
    },
    {
     "data": {
      "image/png": "[encoded data removed]",
      "text/plain": [
       "<Figure size 500x500 with 1 Axes>"
      ]
     },
     "metadata": {},
     "output_type": "display_data"
    },
    {
     "data": {
      "image/png": "[encoded data removed]",
      "text/plain": [
       "<Figure size 500x500 with 1 Axes>"
      ]
     },
     "metadata": {},
     "output_type": "display_data"
    }
   ],
   "source": [
    "\"\"\" Train \"\"\"\n",
    "\n",
    "trained_model = './outputs/model.pt' # final model will be saved \n",
    "\n",
    "train_loss = []\n",
    "train_accuracy = []\n",
    "val_loss = []\n",
    "val_accuracy = []\n",
    "epochs = []\n",
    "    \n",
    "for epoch in range(1, NUM_EPOCHS+1):\n",
    "    print(f'\\n\\nRunning epoch {epoch} of {NUM_EPOCHS}...\\n')\n",
    "    epochs.append(epoch)\n",
    "\n",
    "    #-------------------------Train-------------------------\n",
    "\n",
    "    loss, accuracy = run_epoch(model, optimizer, train_loader, criterion, train=True)\n",
    "    train_loss.append(loss)\n",
    "    train_accuracy.append(accuracy)\n",
    "\n",
    "    #-------------------------Validation--------------------------\n",
    "    # Set network train/test mode to 'test' in the next line\n",
    "\n",
    "    with torch.no_grad():\n",
    "        loss_val, accuracy_val = run_epoch(model, optimizer, test_loader, criterion, train=False)\n",
    "    val_loss.append(loss_val)\n",
    "    val_accuracy.append(accuracy_val)\n",
    "    print(f'\\nEpoch {epoch} validation results: Loss={loss_val} | Accuracy={accuracy_val}\\n')\n",
    "\n",
    "    scheduler.step()\n",
    "\n",
    "    #  print(\"current learning rate:\", optimizer.param_groups[0]['lr'])\n",
    "\n",
    "    # Plot and save\n",
    "    plt.figure(figsize=(5, 5), num=1)\n",
    "    plt.clf()\n",
    "    plt.plot(epochs, train_loss, label='Train')\n",
    "    plt.plot(epochs, val_loss, label='Test')\n",
    "    plt.legend()\n",
    "    plt.grid()\n",
    "    plt.title('Cross entropy loss')\n",
    "    plt.xlabel('Epoch')\n",
    "    plt.ylabel('Loss')\n",
    "    plt.savefig('outputs/01-loss.pdf')\n",
    "\n",
    "    plt.figure(figsize=(5, 5), num=2)\n",
    "    plt.clf()\n",
    "    plt.plot(epochs, train_accuracy, label='Train')\n",
    "    plt.plot(epochs, val_accuracy, label='Test')\n",
    "    plt.legend()\n",
    "    plt.grid()\n",
    "    plt.title('Accuracy')\n",
    "    plt.xlabel('Epoch')\n",
    "    plt.ylabel('Accuracy')\n",
    "    plt.savefig('outputs/02-accuracy.pdf')\n",
    "\n",
    "\n",
    "torch.save(model.state_dict(), './outputs/model.pt')\n",
    "print(\"model saved into './outputs/model.pt'\")\n",
    "\n",
    "del model\n",
    "\n",
    "print(f'Final train loss: {train_loss[-1]}')\n",
    "print(f'Final val loss: {val_loss[-1]}')\n",
    "print(f'Final train accuracy: {train_accuracy[-1]}')\n",
    "print(f'Final val accuracy: {val_accuracy[-1]}')"
   ]
  },
  {
   "cell_type": "markdown",
   "id": "d7a7c1e6",
   "metadata": {},
   "source": [
    "Time to test!\n",
    "\n",
    "Now that we have our trained model, we will create again a model object with our network structure and\n",
    "load the trained weights from our model.pt file.\n",
    "\n",
    "After this its pretty similar to load the data and pass the images trough the network to calculate test accuracy. \n",
    "To make it more similar to the inference, we don't use run_epoch function. We only pass the image through the model and check the result."
   ]
  },
  {
   "cell_type": "code",
   "execution_count": 7,
   "id": "f6e3064a",
   "metadata": {},
   "outputs": [
    {
     "name": "stdout",
     "output_type": "stream",
     "text": [
      "Net(\n",
      "  (convolutions): Sequential(\n",
      "    (0): Conv2d(3, 4, kernel_size=(3, 3), stride=(1, 1), padding=(1, 1))\n",
      "    (1): BatchNorm2d(4, eps=1e-05, momentum=0.1, affine=True, track_running_stats=True)\n",
      "    (2): ReLU(inplace=True)\n",
      "    (3): MaxPool2d(kernel_size=2, stride=2, padding=0, dilation=1, ceil_mode=False)\n",
      "    (4): Conv2d(4, 8, kernel_size=(5, 5), stride=(1, 1), padding=(1, 1))\n",
      "    (5): BatchNorm2d(8, eps=1e-05, momentum=0.1, affine=True, track_running_stats=True)\n",
      "    (6): ReLU(inplace=True)\n",
      "    (7): MaxPool2d(kernel_size=2, stride=2, padding=0, dilation=1, ceil_mode=False)\n",
      "    (8): Conv2d(8, 16, kernel_size=(5, 5), stride=(1, 1), padding=(1, 1))\n",
      "    (9): BatchNorm2d(16, eps=1e-05, momentum=0.1, affine=True, track_running_stats=True)\n",
      "    (10): ReLU(inplace=True)\n",
      "    (11): MaxPool2d(kernel_size=2, stride=2, padding=0, dilation=1, ceil_mode=False)\n",
      "  )\n",
      "  (fully_connected): Sequential(\n",
      "    (0): Linear(in_features=12544, out_features=1000, bias=True)\n",
      "    (1): ReLU(inplace=True)\n",
      "    (2): Linear(in_features=1000, out_features=128, bias=True)\n",
      "    (3): ReLU(inplace=True)\n",
      "    (4): Linear(in_features=128, out_features=3, bias=True)\n",
      "    (5): Softmax(dim=1)\n",
      "  )\n",
      ")\n"
     ]
    },
    {
     "name": "stderr",
     "output_type": "stream",
     "text": [
      "100%|██████████| 9/9 [00:00<00:00, 50.42it/s]"
     ]
    },
    {
     "name": "stdout",
     "output_type": "stream",
     "text": [
      "Final test accuracy: 0.5\n"
     ]
    },
    {
     "name": "stderr",
     "output_type": "stream",
     "text": [
      "\n"
     ]
    }
   ],
   "source": [
    " \"\"\" Test \"\"\"\n",
    "epoch_total_correct = 0\n",
    "epoch_total_samples = 0\n",
    "test_accuracy = 0\n",
    "\n",
    "model = Net(len(class_idx)) \n",
    "model.load_state_dict(torch.load('./outputs/model.pt'))\n",
    "model.eval()\n",
    "model.to(device) \n",
    "\n",
    "print(model)\n",
    "\n",
    "\n",
    "BATCH_SIZE = 1\n",
    "\n",
    "y_pred = []\n",
    "y_true = []\n",
    "\n",
    "with torch.no_grad():\n",
    "    for batch in tqdm(test_loader):\n",
    "        imgs, labels = batch[0].to(device), batch[1].to(device)\n",
    "        outputs = model(imgs.float())\n",
    "        _, predicted = torch.max(outputs.data, 1)\n",
    "        y_pred.extend(predicted.cpu().numpy())\n",
    "        y_true.extend(labels.cpu().numpy())\n",
    "\n",
    "        with torch.no_grad():\n",
    "            epoch_total_samples += labels.size(0)\n",
    "            epoch_total_correct += (predicted == labels).sum().item()\n",
    "\n",
    "\n",
    "    test_accuracy = epoch_total_correct / epoch_total_samples\n",
    "\n",
    "print(f'Final test accuracy: {test_accuracy}')"
   ]
  },
  {
   "attachments": {
    "conf_mat.jpg": {
     "image/jpeg": "[encoded data removed]"
    }
   },
   "cell_type": "markdown",
   "id": "4fd67b63",
   "metadata": {},
   "source": [
    "### Confusion matrix\n",
    "\n",
    "A confusion matrix is an organized way of mapping the predictions to the original classes to which the data belong. By creating a confusion matrix, we can visualize the model performance better to see which class the model predicts correct, and if it doesn't, which wrong class replace the correct one's place. Apart from that, we can also see the current class takes which class's place. <br>\n",
    "\n",
    "To understand confusion matrix, let's review the related terms by examining daisy class: <br>\n",
    "\n",
    "<b>True Positive:</b> The prediction and correct class matches (The image belongs to daisy class, and the model predicted this image as daisy) <br>\n",
    "<b>True Negative:</b> The class didn't take the place of any other correct class. (The image belongs to the rose class, and the model didn't make any mistake by saying its daisy) <br>\n",
    "<b>False Positive:</b> The prediction is wrong! It was a rose but the model predicted as daisy <br>\n",
    "<b>False Negative:</b> The prediction is wrong! It was a daisy but the model assigned any other class. <br>\n",
    "\n",
    "![conf_mat.jpg](attachment:conf_mat.jpg)\n",
    "\n",
    "We can create a confusion matrix using sklearn librarie's confusion_matrix function, to visualize this matrix (to convert it from a simple 2D matrix to colorful plot), we will use panda library. Note that in sklearn's confusion matrix the true labels are the rows and predictions are the columns as the example explaining the logic of confusion matrix above. This can be changed depending on the confusion matrix function you use, but its enough that you know the logic!"
   ]
  },
  {
   "cell_type": "code",
   "execution_count": 8,
   "id": "2ebaca3a",
   "metadata": {},
   "outputs": [
    {
     "data": {
      "image/png": "[encoded data removed]",
      "text/plain": [
       "<Figure size 1200x700 with 2 Axes>"
      ]
     },
     "metadata": {},
     "output_type": "display_data"
    }
   ],
   "source": [
    "cf_matrix = confusion_matrix(y_true, y_pred)\n",
    "panda_matrix = pd.DataFrame(cf_matrix, index = [i for i in class_idx.keys()], columns = [i for i in class_idx.keys()])\n",
    "plt.figure(figsize = (12,7))\n",
    "sn.heatmap(panda_matrix, annot=True)\n",
    "plt.xlabel('Predicted Label')\n",
    "plt.ylabel('True Label')\n",
    "plt.savefig('./outputs/confusion_matrix.png')"
   ]
  },
  {
   "cell_type": "markdown",
   "id": "77319141",
   "metadata": {},
   "source": [
    "### Final Words\n",
    "\n",
    "You should be aware that our results are not fascinating actually. We see that the train accuracy and loss seem to improve but validation loss and accuracy can't catch it. In the next section, you will learn how to improve your training using fine tuning methods!"
   ]
  }
 ],
 "metadata": {
  "kernelspec": {
   "display_name": "Python 3 (ipykernel)",
   "language": "python",
   "name": "python3"
  },
  "language_info": {
   "codemirror_mode": {
    "name": "ipython",
    "version": 3
   },
   "file_extension": ".py",
   "mimetype": "text/x-python",
   "name": "python",
   "nbconvert_exporter": "python",
   "pygments_lexer": "ipython3",
   "version": "3.8.16"
  }
 },
 "nbformat": 4,
 "nbformat_minor": 5
}
