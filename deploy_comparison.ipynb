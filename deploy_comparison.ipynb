{
 "cells": [
  {
   "cell_type": "markdown",
   "id": "7ac68555",
   "metadata": {},
   "source": [
    "## Collect ONNX results for different size of data"
   ]
  },
  {
   "cell_type": "code",
   "execution_count": 10,
   "id": "2298ac10",
   "metadata": {},
   "outputs": [
    {
     "name": "stdout",
     "output_type": "stream",
     "text": [
      "['506018088_4f7a15a7c5_n.jpg', '5547758_eea9edfd54_n.jpg', '169371301_d9b91a2a42.jpg', '302782756_d35cb3e468.jpg', '144076848_57e1d662e3_m.jpg', '512177035_70afc925c8.jpg', '144603918_b9de002f60_m.jpg', '162362896_99c7d851c8_n.jpg', '7790614422_4557928ab9_n.jpg', '154332674_453cea64f4.jpg', '134409839_71069a95d1_m.jpg', '299129811_d6ebda9970.jpg', '413815348_764ae83088.jpg', '437859108_173fb33c98.jpg', '367020749_3c9a652d75.jpg', '7702332000_3f21ef4571_n.jpg', '286875003_f7c0e1882d.jpg', '172882635_4cc7b86731_m.jpg', '43474673_7bb4465a86.jpg', '147068564_32bb4350cc.jpg', '517054463_036db655a1_m.jpg', '301964511_fab84ea1c1.jpg', '100080576_f52e8ee070_n.jpg', '512477177_d9004cbcf1_n.jpg', '422094774_28acc69a8b_n.jpg', '515112668_a49c69455a.jpg', '476857510_d2b30175de_n.jpg', '21652746_cc379e0eea_m.jpg', '102841525_bd6628ae3c.jpg', '7924174040_444d5bbb8a.jpg', '163978992_8128b49d3e_n.jpg', '450128527_fd35742d44.jpg', '25360380_1a881a5648.jpg', '175106495_53ebdef092_n.jpg', '54377391_15648e8d18.jpg', '171972704_389cf7a953.jpg', '5673728_71b8cb57eb.jpg', '435283392_72e4c5b5d6_m.jpg', '105806915_a9c13e2106_n.jpg', '495098110_3a4bb30042_n.jpg', '181007802_7cab5ee78e_n.jpg', '519880292_7a3a6c6b69.jpg', '176375506_201859bb92_m.jpg', '506348009_9ecff8b6ef.jpg', '510844526_858b8fe4db.jpg', '15207766_fc2f1d692c_n.jpg', '5794839_200acd910c_n.jpg', '5794835_d15905c7c8_n.jpg', '144099102_bf63a41e4f_n.jpg', '162362897_1d21b70621_m.jpg', '446484749_4044affcaf_n.jpg', '294451721_5106537b34.jpg', '7749368884_1fc58c67ff_n.jpg', '107592979_aaa9cdfe78_m.jpg', '153210866_03cc9f2f36.jpg', '11642632_1e7627a2cc.jpg', '488202750_c420cbce61.jpg', '5673551_01d1ea993e_n.jpg', '476856232_7c35952f40_n.jpg', '99306615_739eb94b9e_m.jpg', '158869618_f1a6704236_n.jpg', '174131220_c853df1287.jpg', '498159452_b71afd65ba.jpg', '305160642_53cde0f44f.jpg']\n"
     ]
    }
   ],
   "source": [
    "\"\"\" Prepare data\"\"\"\n",
    "\n",
    "import os\n",
    "import cv2\n",
    "import numpy as np\n",
    "\n",
    "rootdir = \"data_flowers/daisy\"\n",
    "images_list = os.listdir(rootdir)\n",
    "print(images_list) # all the image names in daisy flower\n",
    "\n",
    "images = []\n",
    "\n",
    "for image_name in images_list:\n",
    "    img = cv2.imread(os.path.join(rootdir,image_name))\n",
    "    img = cv2.resize(img, (240,240), interpolation = cv2.INTER_AREA) \n",
    "    img = np.reshape(img, (1,3,240,240))\n",
    "    images.append(img.astype(np.float32))"
   ]
  },
  {
   "cell_type": "code",
   "execution_count": 11,
   "id": "fcac88a3",
   "metadata": {},
   "outputs": [
    {
     "name": "stdout",
     "output_type": "stream",
     "text": [
      "inference took 0.004163503646850586 seconds for 1 image\n",
      "inference took 0.06167292594909668 seconds for 16 image\n",
      "inference took 0.12746810913085938 seconds for 32 image\n",
      "inference took 0.2308216094970703 seconds for 64 image\n"
     ]
    }
   ],
   "source": [
    "import time\n",
    "import onnxruntime as ort\n",
    "\n",
    "session = ort.InferenceSession(\"onnx/model.onnx\") #start onnx engine for our onnx model\n",
    "\n",
    "input_name = session.get_inputs()[0].name\n",
    "output_name = session.get_outputs()[0].name\n",
    "\n",
    "onnx_results = []\n",
    "\n",
    "\"\"\" Run inference for 1 image\"\"\"\n",
    "\n",
    "start_inference = time.time()\n",
    "\n",
    "scores = session.run([output_name], {input_name: images[0]})[0]\n",
    "\n",
    "end_inference = time.time()\n",
    "\n",
    "print(\"inference took\", end_inference-start_inference, \"seconds for 1 image\")\n",
    "onnx_results.append(end_inference-start_inference)\n",
    "\n",
    "\"\"\" Run inference for 16 image\"\"\"\n",
    "\n",
    "start_inference = time.time()\n",
    "\n",
    "for image in images[0:16]:\n",
    "    scores = session.run([output_name], {input_name: image})[0]\n",
    "\n",
    "end_inference = time.time()\n",
    "\n",
    "print(\"inference took\", end_inference-start_inference, \"seconds for 16 image\")\n",
    "onnx_results.append(end_inference-start_inference)\n",
    "\n",
    "\"\"\" Run inference for 32 image\"\"\"\n",
    "\n",
    "start_inference = time.time()\n",
    "\n",
    "for image in images[0:32]:\n",
    "    scores = session.run([output_name], {input_name: image})[0]\n",
    "\n",
    "end_inference = time.time()\n",
    "\n",
    "print(\"inference took\", end_inference-start_inference, \"seconds for 32 image\")\n",
    "onnx_results.append(end_inference-start_inference)\n",
    "\n",
    "\"\"\" Run inference for 64 image\"\"\"\n",
    "\n",
    "start_inference = time.time()\n",
    "\n",
    "for image in images[0:64]:\n",
    "    scores = session.run([output_name], {input_name: image})[0]\n",
    "\n",
    "end_inference = time.time()\n",
    "\n",
    "print(\"inference took\", end_inference-start_inference, \"seconds for 64 image\")\n",
    "onnx_results.append(end_inference-start_inference)"
   ]
  },
  {
   "cell_type": "markdown",
   "id": "d75d1bd5",
   "metadata": {},
   "source": [
    "## Collect OpenVINO results for different size of data\n",
    "\n",
    "## OpenVINO in OpenVINO runtime"
   ]
  },
  {
   "cell_type": "code",
   "execution_count": 12,
   "id": "e8c8dc9e",
   "metadata": {},
   "outputs": [
    {
     "name": "stdout",
     "output_type": "stream",
     "text": [
      "inference took 0.006293296813964844 seconds for 1 image\n",
      "inference took 0.06717920303344727 seconds for 16 image\n",
      "inference took 0.11652445793151855 seconds for 32 image\n",
      "inference took 0.23731231689453125 seconds for 64 image\n"
     ]
    }
   ],
   "source": [
    "from openvino.runtime import Core\n",
    "\n",
    "# Load the network in OpenVINO Runtime.\n",
    "ie = Core()\n",
    "model_ir = ie.read_model(model=\"openvino/model.xml\")\n",
    "compiled_model_ir = ie.compile_model(model=model_ir, device_name=\"CPU\")\n",
    "\n",
    "# Get input and output layers.\n",
    "output_layer_ir = compiled_model_ir.output(0)\n",
    "\n",
    "openvino_results = []\n",
    "\n",
    "\"\"\" Run inference for 1 image\"\"\"\n",
    "\n",
    "start_inference = time.time()\n",
    "scores = compiled_model_ir([images[0]])[output_layer_ir]\n",
    "end_inference = time.time()\n",
    "print(\"inference took\", end_inference-start_inference, \"seconds for 1 image\")\n",
    "openvino_results.append(end_inference-start_inference)\n",
    "\n",
    "\"\"\" Run inference for 16 image\"\"\"\n",
    "\n",
    "start_inference = time.time()\n",
    "for image in images[0:16]:\n",
    "    scores = compiled_model_ir([image])[output_layer_ir]\n",
    "end_inference = time.time()\n",
    "print(\"inference took\", end_inference-start_inference, \"seconds for 16 image\")\n",
    "openvino_results.append(end_inference-start_inference)\n",
    "\n",
    "\"\"\" Run inference for 32 image\"\"\"\n",
    "\n",
    "start_inference = time.time()\n",
    "for image in images[0:32]:\n",
    "    scores = compiled_model_ir([image])[output_layer_ir]\n",
    "end_inference = time.time()\n",
    "print(\"inference took\", end_inference-start_inference, \"seconds for 32 image\")\n",
    "openvino_results.append(end_inference-start_inference)\n",
    "\n",
    "\"\"\" Run inference for 64 image\"\"\"\n",
    "\n",
    "start_inference = time.time()\n",
    "for image in images[0:64]:\n",
    "    scores = compiled_model_ir([image])[output_layer_ir]\n",
    "end_inference = time.time()\n",
    "print(\"inference took\", end_inference-start_inference, \"seconds for 64 image\")\n",
    "openvino_results.append(end_inference-start_inference)\n",
    "\n"
   ]
  },
  {
   "cell_type": "markdown",
   "id": "09badf85",
   "metadata": {},
   "source": [
    "### ONNX in OpenVINO runtime"
   ]
  },
  {
   "cell_type": "code",
   "execution_count": 13,
   "id": "947bb07e",
   "metadata": {
    "scrolled": true
   },
   "outputs": [
    {
     "name": "stdout",
     "output_type": "stream",
     "text": [
      "inference took 0.0053174495697021484 seconds for 1 image\n",
      "inference took 0.0933530330657959 seconds for 16 image\n",
      "inference took 0.15446853637695312 seconds for 32 image\n",
      "inference took 0.40591859817504883 seconds for 64 image\n"
     ]
    }
   ],
   "source": [
    "# Load the network to OpenVINO Runtime.\n",
    "ie = Core()\n",
    "model_onnx = ie.read_model(model=\"onnx/model.onnx\")\n",
    "compiled_model_onnx = ie.compile_model(model=model_onnx, device_name=\"CPU\")\n",
    "\n",
    "output_layer_onnx = compiled_model_onnx.output(0)\n",
    "\n",
    "onnx_openvino_results = []\n",
    "\n",
    "\"\"\" Run inference for 1 image\"\"\"\n",
    "\n",
    "start_inference = time.time()\n",
    "res_onnx = compiled_model_onnx([images[0]])[output_layer_onnx]\n",
    "end_inference = time.time()\n",
    "print(\"inference took\", end_inference-start_inference, \"seconds for 1 image\")\n",
    "onnx_openvino_results.append(end_inference-start_inference)\n",
    "\n",
    "\"\"\" Run inference for 16 image\"\"\"\n",
    "\n",
    "start_inference = time.time()\n",
    "for image in images[0:16]:\n",
    "    scores = compiled_model_onnx([image])[output_layer_onnx]\n",
    "end_inference = time.time()\n",
    "print(\"inference took\", end_inference-start_inference, \"seconds for 16 image\")\n",
    "onnx_openvino_results.append(end_inference-start_inference)\n",
    "\n",
    "\"\"\" Run inference for 32 image\"\"\"\n",
    "\n",
    "start_inference = time.time()\n",
    "for image in images[0:32]:\n",
    "    scores = compiled_model_onnx([image])[output_layer_onnx]\n",
    "end_inference = time.time()\n",
    "print(\"inference took\", end_inference-start_inference, \"seconds for 32 image\")\n",
    "onnx_openvino_results.append(end_inference-start_inference)\n",
    "\n",
    "\"\"\" Run inference for 64 image\"\"\"\n",
    "\n",
    "start_inference = time.time()\n",
    "for image in images[0:64]:\n",
    "    scores = compiled_model_onnx([image])[output_layer_onnx]\n",
    "end_inference = time.time()\n",
    "print(\"inference took\", end_inference-start_inference, \"seconds for 64 image\")\n",
    "onnx_openvino_results.append(end_inference-start_inference)\n"
   ]
  },
  {
   "cell_type": "code",
   "execution_count": 14,
   "id": "369a9e40",
   "metadata": {},
   "outputs": [
    {
     "data": {
      "image/png": "[encoded data removed]",
      "text/plain": [
       "<Figure size 640x480 with 1 Axes>"
      ]
     },
     "metadata": {},
     "output_type": "display_data"
    }
   ],
   "source": [
    "import matplotlib.pyplot as plt\n",
    "\n",
    "plt.scatter([1,16,32,64], onnx_results, label='onnx in onnxruntime')\n",
    "plt.scatter([1,16,32,64], openvino_results, label='openvino')\n",
    "plt.scatter([1,16,32,64], onnx_openvino_results, label='onnx in openvino runtime')\n",
    "plt.legend()\n",
    "plt.show()"
   ]
  },
  {
   "cell_type": "markdown",
   "id": "77cd8c2e",
   "metadata": {},
   "source": [
    "We see that onnx in openvino runtime gives the worst result while its still better than PyTorch inference. We also see that onnx openvino keeps its inference time stable while openvino and onnx gets faster with increasing number of given data. "
   ]
  },
  {
   "cell_type": "markdown",
   "id": "0e4caff5",
   "metadata": {},
   "source": [
    "### Inference in Batchs\n",
    "\n",
    "### ONNX in onnxruntime"
   ]
  },
  {
   "cell_type": "code",
   "execution_count": 15,
   "id": "e3e66af7",
   "metadata": {},
   "outputs": [
    {
     "name": "stdout",
     "output_type": "stream",
     "text": [
      "(64, 1, 3, 240, 240)\n",
      "(64, 3, 240, 240)\n",
      "inference took 0.06395936012268066 seconds for batch of 64 image\n"
     ]
    }
   ],
   "source": [
    "import torch\n",
    "from networkFT import Net\n",
    "\n",
    "\"\"\" Loading the trained model\"\"\"\n",
    "model = Net(3) \n",
    "model.load_state_dict(torch.load('./outputs_FT/model.pt'))\n",
    "\n",
    "\"\"\" create an example input having same shape with the expected input for the trained model\"\"\"\n",
    "\n",
    "x = torch.randn((64, 3, 240, 240))\n",
    "\n",
    "\"\"\" convert it to onnx\"\"\"\n",
    "torch.onnx.export(model,       # model to convert\n",
    "                  x,         # model input\n",
    "                  \"onnx/model64.onnx\",  # output model name\n",
    "                  export_params=True, # store the trained weights\n",
    "                  opset_version=11,   # the ONNX version\n",
    "                  do_constant_folding=True, # remove randomness, make inference faster\n",
    "                  input_names= ['input'], # set model input names    \n",
    "                  output_names=['output'], # set model output names\n",
    ")\n",
    "\n",
    "session = ort.InferenceSession(\"onnx/model64.onnx\") #start onnx engine for our onnx model\n",
    "\n",
    "input_name = session.get_inputs()[0].name\n",
    "output_name = session.get_outputs()[0].name\n",
    "\n",
    "\n",
    "print(np.array(images).shape)\n",
    "images = np.array(images).reshape(64,3,240,240)\n",
    "print(np.array(images).shape)\n",
    "\n",
    "\n",
    "start_inference = time.time()\n",
    "\n",
    "scores = session.run([output_name], {input_name: images})[0]\n",
    "\n",
    "end_inference = time.time()\n",
    "print(\"inference took\", end_inference-start_inference, \"seconds for batch of 64 image\")\n",
    "\n"
   ]
  },
  {
   "cell_type": "markdown",
   "id": "eedbdf9f",
   "metadata": {},
   "source": [
    "### OpenVINO in OpenVINO runtime"
   ]
  },
  {
   "cell_type": "code",
   "execution_count": 16,
   "id": "e551b3d5",
   "metadata": {},
   "outputs": [
    {
     "name": "stdout",
     "output_type": "stream",
     "text": [
      "[ WARNING ]  Use of deprecated cli option --data_type detected. Option use in the following releases will be fatal. \n",
      "[ INFO ] The model was converted to IR v11, the latest model format that corresponds to the source DL framework input/output format. While IR v11 is backwards compatible with OpenVINO Inference Engine API v1.0, please use API v2.0 (as of 2022.1) to take advantage of the latest improvements in IR v11.\n",
      "Find more information about API v2.0 and IR v11 at https://docs.openvino.ai/latest/openvino_2_0_transition_guide.html\n",
      "[ SUCCESS ] Generated IR version 11 model.\n",
      "[ SUCCESS ] XML file: /home/yca/educative/docker_image_jp/openvino/model64.xml\n",
      "[ SUCCESS ] BIN file: /home/yca/educative/docker_image_jp/openvino/model64.bin\n"
     ]
    }
   ],
   "source": [
    "!mo --input_model \"onnx/model64.onnx\" --input_shape \"[64, 3, 240, 240]\" --data_type FP32 --output_dir \"openvino/\""
   ]
  },
  {
   "cell_type": "code",
   "execution_count": 17,
   "id": "1f7731f5",
   "metadata": {},
   "outputs": [
    {
     "name": "stdout",
     "output_type": "stream",
     "text": [
      "inference took 0.09828066825866699 seconds for batch of 64 image\n"
     ]
    }
   ],
   "source": [
    "from openvino.runtime import Core\n",
    "\n",
    "# Load the network in OpenVINO Runtime.\n",
    "ie = Core()\n",
    "model_ir = ie.read_model(model=\"openvino/model64.xml\")\n",
    "compiled_model_ir = ie.compile_model(model=model_ir, device_name=\"CPU\")\n",
    "\n",
    "# Get input and output layers.\n",
    "output_layer_ir = compiled_model_ir.output(0)\n",
    "\n",
    "start_inference = time.time()\n",
    "scores = compiled_model_ir([images])[output_layer_ir]\n",
    "end_inference = time.time()\n",
    "print(\"inference took\", end_inference-start_inference, \"seconds for batch of 64 image\")"
   ]
  },
  {
   "cell_type": "markdown",
   "id": "b5f51bc9",
   "metadata": {},
   "source": [
    "### ONNX in OpenVINO runtime"
   ]
  },
  {
   "cell_type": "code",
   "execution_count": 18,
   "id": "89d5d53f",
   "metadata": {},
   "outputs": [
    {
     "name": "stdout",
     "output_type": "stream",
     "text": [
      "inference took 0.08121919631958008 seconds for batch of 64 image\n"
     ]
    }
   ],
   "source": [
    "ie = Core()\n",
    "model_onnx = ie.read_model(model=\"onnx/model64.onnx\")\n",
    "compiled_model_onnx = ie.compile_model(model=model_onnx, device_name=\"CPU\")\n",
    "\n",
    "output_layer_onnx = compiled_model_onnx.output(0)\n",
    "\n",
    "start_inference = time.time()\n",
    "scores = compiled_model_onnx([images])[output_layer_onnx]\n",
    "end_inference = time.time()\n",
    "print(\"inference took\", end_inference-start_inference, \"seconds for batch of 64 image\")"
   ]
  },
  {
   "cell_type": "markdown",
   "id": "d435e721",
   "metadata": {},
   "source": [
    "### Conclusion\n",
    "\n",
    "As you see, we can make our inference with batchs (any batch size, it can be different than our training model batch size), and it makes our inference way faster. For example for each case, if we infer 64 images 1 by 1, it's 5x slower than infering 64 images as batchs. Final result doesn't seem to be changed though, still we have a winner (onnx in onnxruntime), a second (onnx in openvino runtime) and a loser(openvino in openvino)! Note that the performance of these frameworks may change depending on yoru hardware and the model you want to convert, so I suggest you to check all these options to find the best before deploying it ;)"
   ]
  }
 ],
 "metadata": {
  "kernelspec": {
   "display_name": "Python 3 (ipykernel)",
   "language": "python",
   "name": "python3"
  },
  "language_info": {
   "codemirror_mode": {
    "name": "ipython",
    "version": 3
   },
   "file_extension": ".py",
   "mimetype": "text/x-python",
   "name": "python",
   "nbconvert_exporter": "python",
   "pygments_lexer": "ipython3",
   "version": "3.8.16"
  }
 },
 "nbformat": 4,
 "nbformat_minor": 5
}
